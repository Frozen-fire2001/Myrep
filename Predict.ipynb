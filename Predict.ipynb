{
  "cells": [
    {
      "cell_type": "markdown",
      "metadata": {
        "id": "view-in-github",
        "colab_type": "text"
      },
      "source": [
        "<a href=\"https://colab.research.google.com/github/Frozen-fire2001/Myrep/blob/main/Predict.ipynb\" target=\"_parent\"><img src=\"https://colab.research.google.com/assets/colab-badge.svg\" alt=\"Open In Colab\"/></a>"
      ]
    },
    {
      "cell_type": "markdown",
      "metadata": {
        "id": "nPacU7oUO90V"
      },
      "source": [
        "#Import Libraries"
      ]
    },
    {
      "cell_type": "code",
      "execution_count": null,
      "metadata": {
        "id": "qQPeeRTOO0GI"
      },
      "outputs": [],
      "source": [
        "import pandas as pd\n",
        "import warnings\n",
        "warnings.filterwarnings('ignore')\n",
        "import missingno as msn\n",
        "import plotly.express as px\n",
        "import matplotlib.pyplot as plt\n",
        "import seaborn as sns\n",
        "import numpy as np\n",
        "sns.set()\n",
        "from datetime import date, timedelta, datetime"
      ]
    },
    {
      "cell_type": "code",
      "execution_count": null,
      "metadata": {
        "colab": {
          "base_uri": "https://localhost:8080/"
        },
        "id": "o0vDL4i3O5x2",
        "outputId": "78c0f071-28ff-48cd-a6f7-b13d55dc69cb"
      },
      "outputs": [
        {
          "output_type": "stream",
          "name": "stdout",
          "text": [
            "Mounted at /content/drive\n"
          ]
        }
      ],
      "source": [
        "from google.colab import drive\n",
        "drive.mount('/content/drive')"
      ]
    },
    {
      "cell_type": "markdown",
      "source": [
        "#Data Cleaning"
      ],
      "metadata": {
        "id": "YwJqFj-V_2Ne"
      }
    },
    {
      "cell_type": "code",
      "execution_count": null,
      "metadata": {
        "colab": {
          "base_uri": "https://localhost:8080/",
          "height": 1000
        },
        "id": "N7bYLZcJO51X",
        "outputId": "9e1afb22-afe7-4297-a128-578fdc9f020d"
      },
      "outputs": [
        {
          "output_type": "execute_result",
          "data": {
            "text/plain": [
              "            Date   Time                                           Location  \\\n",
              "0      9/17/1908  17:18                                Fort Myer, Virginia   \n",
              "1      7/12/1912   6:30                            AtlantiCity, New Jersey   \n",
              "2       8/6/1913    NaN                 Victoria, British Columbia, Canada   \n",
              "3       9/9/1913  18:30                                 Over the North Sea   \n",
              "4     10/17/1913  10:30                         Near Johannisthal, Germany   \n",
              "...          ...    ...                                                ...   \n",
              "5263   5/20/2009   6:30                             Near Madiun, Indonesia   \n",
              "5264   5/26/2009    NaN                  Near Isiro, DemocratiRepubliCongo   \n",
              "5265    6/1/2009   0:15  AtlantiOcean, 570 miles northeast of Natal, Br...   \n",
              "5266    6/7/2009   8:30       Near Port Hope Simpson, Newfoundland, Canada   \n",
              "5267    6/8/2009    NaN                  State of Arunachal Pradesh, India   \n",
              "\n",
              "                             Operator Flight #  \\\n",
              "0                Military - U.S. Army      NaN   \n",
              "1                Military - U.S. Navy      NaN   \n",
              "2                             Private        -   \n",
              "3              Military - German Navy      NaN   \n",
              "4              Military - German Navy      NaN   \n",
              "...                               ...      ...   \n",
              "5263  Military - Indonesian Air Force      NaN   \n",
              "5264                      Service Air      NaN   \n",
              "5265                       Air France      447   \n",
              "5266                       Strait Air      NaN   \n",
              "5267      Military - Indian Air Force      NaN   \n",
              "\n",
              "                                          Route  \\\n",
              "0                                 Demonstration   \n",
              "1                                   Test flight   \n",
              "2                                           NaN   \n",
              "3                                           NaN   \n",
              "4                                           NaN   \n",
              "...                                         ...   \n",
              "5263                           Jakarta - Maduin   \n",
              "5264                               Goma - Isiro   \n",
              "5265                     Rio de Janeiro - Paris   \n",
              "5266  Lourdes de BlanSablon - Port Hope Simpson   \n",
              "5267                         Mechuka for Jorhat   \n",
              "\n",
              "                                  Type Registration cn/In  Aboard  Fatalities  \\\n",
              "0                     Wright Flyer III          NaN     1     2.0         1.0   \n",
              "1                            Dirigible          NaN   NaN     5.0         5.0   \n",
              "2                     Curtiss seaplane          NaN   NaN     1.0         1.0   \n",
              "3               Zeppelin L-1 (airship)          NaN   NaN    20.0        14.0   \n",
              "4               Zeppelin L-2 (airship)          NaN   NaN    30.0        30.0   \n",
              "...                                ...          ...   ...     ...         ...   \n",
              "5263           Lockheed C-130 Hercules       A-1325  1982   112.0        98.0   \n",
              "5264                     Antonov An-26       9Q-CSA  5005     4.0         4.0   \n",
              "5265                   Airbus A330-203       F-GZCP   660   228.0       228.0   \n",
              "5266  Britten-Norman BN-2A-27 Islander     C-FJJRÂ    424     1.0         1.0   \n",
              "5267                     Antonov An-32          NaN   NaN    13.0        13.0   \n",
              "\n",
              "      Ground                                            Summary  \n",
              "0        0.0  During a demonstration flight, a U.S. Army fly...  \n",
              "1        0.0  First U.S. dirigible Akron exploded just offsh...  \n",
              "2        0.0  The first fatal airplane accident in Canada oc...  \n",
              "3        0.0  The airship flew into a thunderstorm and encou...  \n",
              "4        0.0  Hydrogen gas which was being vented was sucked...  \n",
              "...      ...                                                ...  \n",
              "5263     2.0  While on approach, the military transport cras...  \n",
              "5264     NaN  The cargo plane crashed while on approach to I...  \n",
              "5265     0.0  The Airbus went missing over the AtlantiOcean ...  \n",
              "5266     0.0  The air ambulance crashed into hills while att...  \n",
              "5267     0.0  The military transport went missing while en r...  \n",
              "\n",
              "[5268 rows x 13 columns]"
            ],
            "text/html": [
              "\n",
              "  <div id=\"df-d6a2832b-e1d9-482c-939a-0aa641d446a3\">\n",
              "    <div class=\"colab-df-container\">\n",
              "      <div>\n",
              "<style scoped>\n",
              "    .dataframe tbody tr th:only-of-type {\n",
              "        vertical-align: middle;\n",
              "    }\n",
              "\n",
              "    .dataframe tbody tr th {\n",
              "        vertical-align: top;\n",
              "    }\n",
              "\n",
              "    .dataframe thead th {\n",
              "        text-align: right;\n",
              "    }\n",
              "</style>\n",
              "<table border=\"1\" class=\"dataframe\">\n",
              "  <thead>\n",
              "    <tr style=\"text-align: right;\">\n",
              "      <th></th>\n",
              "      <th>Date</th>\n",
              "      <th>Time</th>\n",
              "      <th>Location</th>\n",
              "      <th>Operator</th>\n",
              "      <th>Flight #</th>\n",
              "      <th>Route</th>\n",
              "      <th>Type</th>\n",
              "      <th>Registration</th>\n",
              "      <th>cn/In</th>\n",
              "      <th>Aboard</th>\n",
              "      <th>Fatalities</th>\n",
              "      <th>Ground</th>\n",
              "      <th>Summary</th>\n",
              "    </tr>\n",
              "  </thead>\n",
              "  <tbody>\n",
              "    <tr>\n",
              "      <th>0</th>\n",
              "      <td>9/17/1908</td>\n",
              "      <td>17:18</td>\n",
              "      <td>Fort Myer, Virginia</td>\n",
              "      <td>Military - U.S. Army</td>\n",
              "      <td>NaN</td>\n",
              "      <td>Demonstration</td>\n",
              "      <td>Wright Flyer III</td>\n",
              "      <td>NaN</td>\n",
              "      <td>1</td>\n",
              "      <td>2.0</td>\n",
              "      <td>1.0</td>\n",
              "      <td>0.0</td>\n",
              "      <td>During a demonstration flight, a U.S. Army fly...</td>\n",
              "    </tr>\n",
              "    <tr>\n",
              "      <th>1</th>\n",
              "      <td>7/12/1912</td>\n",
              "      <td>6:30</td>\n",
              "      <td>AtlantiCity, New Jersey</td>\n",
              "      <td>Military - U.S. Navy</td>\n",
              "      <td>NaN</td>\n",
              "      <td>Test flight</td>\n",
              "      <td>Dirigible</td>\n",
              "      <td>NaN</td>\n",
              "      <td>NaN</td>\n",
              "      <td>5.0</td>\n",
              "      <td>5.0</td>\n",
              "      <td>0.0</td>\n",
              "      <td>First U.S. dirigible Akron exploded just offsh...</td>\n",
              "    </tr>\n",
              "    <tr>\n",
              "      <th>2</th>\n",
              "      <td>8/6/1913</td>\n",
              "      <td>NaN</td>\n",
              "      <td>Victoria, British Columbia, Canada</td>\n",
              "      <td>Private</td>\n",
              "      <td>-</td>\n",
              "      <td>NaN</td>\n",
              "      <td>Curtiss seaplane</td>\n",
              "      <td>NaN</td>\n",
              "      <td>NaN</td>\n",
              "      <td>1.0</td>\n",
              "      <td>1.0</td>\n",
              "      <td>0.0</td>\n",
              "      <td>The first fatal airplane accident in Canada oc...</td>\n",
              "    </tr>\n",
              "    <tr>\n",
              "      <th>3</th>\n",
              "      <td>9/9/1913</td>\n",
              "      <td>18:30</td>\n",
              "      <td>Over the North Sea</td>\n",
              "      <td>Military - German Navy</td>\n",
              "      <td>NaN</td>\n",
              "      <td>NaN</td>\n",
              "      <td>Zeppelin L-1 (airship)</td>\n",
              "      <td>NaN</td>\n",
              "      <td>NaN</td>\n",
              "      <td>20.0</td>\n",
              "      <td>14.0</td>\n",
              "      <td>0.0</td>\n",
              "      <td>The airship flew into a thunderstorm and encou...</td>\n",
              "    </tr>\n",
              "    <tr>\n",
              "      <th>4</th>\n",
              "      <td>10/17/1913</td>\n",
              "      <td>10:30</td>\n",
              "      <td>Near Johannisthal, Germany</td>\n",
              "      <td>Military - German Navy</td>\n",
              "      <td>NaN</td>\n",
              "      <td>NaN</td>\n",
              "      <td>Zeppelin L-2 (airship)</td>\n",
              "      <td>NaN</td>\n",
              "      <td>NaN</td>\n",
              "      <td>30.0</td>\n",
              "      <td>30.0</td>\n",
              "      <td>0.0</td>\n",
              "      <td>Hydrogen gas which was being vented was sucked...</td>\n",
              "    </tr>\n",
              "    <tr>\n",
              "      <th>...</th>\n",
              "      <td>...</td>\n",
              "      <td>...</td>\n",
              "      <td>...</td>\n",
              "      <td>...</td>\n",
              "      <td>...</td>\n",
              "      <td>...</td>\n",
              "      <td>...</td>\n",
              "      <td>...</td>\n",
              "      <td>...</td>\n",
              "      <td>...</td>\n",
              "      <td>...</td>\n",
              "      <td>...</td>\n",
              "      <td>...</td>\n",
              "    </tr>\n",
              "    <tr>\n",
              "      <th>5263</th>\n",
              "      <td>5/20/2009</td>\n",
              "      <td>6:30</td>\n",
              "      <td>Near Madiun, Indonesia</td>\n",
              "      <td>Military - Indonesian Air Force</td>\n",
              "      <td>NaN</td>\n",
              "      <td>Jakarta - Maduin</td>\n",
              "      <td>Lockheed C-130 Hercules</td>\n",
              "      <td>A-1325</td>\n",
              "      <td>1982</td>\n",
              "      <td>112.0</td>\n",
              "      <td>98.0</td>\n",
              "      <td>2.0</td>\n",
              "      <td>While on approach, the military transport cras...</td>\n",
              "    </tr>\n",
              "    <tr>\n",
              "      <th>5264</th>\n",
              "      <td>5/26/2009</td>\n",
              "      <td>NaN</td>\n",
              "      <td>Near Isiro, DemocratiRepubliCongo</td>\n",
              "      <td>Service Air</td>\n",
              "      <td>NaN</td>\n",
              "      <td>Goma - Isiro</td>\n",
              "      <td>Antonov An-26</td>\n",
              "      <td>9Q-CSA</td>\n",
              "      <td>5005</td>\n",
              "      <td>4.0</td>\n",
              "      <td>4.0</td>\n",
              "      <td>NaN</td>\n",
              "      <td>The cargo plane crashed while on approach to I...</td>\n",
              "    </tr>\n",
              "    <tr>\n",
              "      <th>5265</th>\n",
              "      <td>6/1/2009</td>\n",
              "      <td>0:15</td>\n",
              "      <td>AtlantiOcean, 570 miles northeast of Natal, Br...</td>\n",
              "      <td>Air France</td>\n",
              "      <td>447</td>\n",
              "      <td>Rio de Janeiro - Paris</td>\n",
              "      <td>Airbus A330-203</td>\n",
              "      <td>F-GZCP</td>\n",
              "      <td>660</td>\n",
              "      <td>228.0</td>\n",
              "      <td>228.0</td>\n",
              "      <td>0.0</td>\n",
              "      <td>The Airbus went missing over the AtlantiOcean ...</td>\n",
              "    </tr>\n",
              "    <tr>\n",
              "      <th>5266</th>\n",
              "      <td>6/7/2009</td>\n",
              "      <td>8:30</td>\n",
              "      <td>Near Port Hope Simpson, Newfoundland, Canada</td>\n",
              "      <td>Strait Air</td>\n",
              "      <td>NaN</td>\n",
              "      <td>Lourdes de BlanSablon - Port Hope Simpson</td>\n",
              "      <td>Britten-Norman BN-2A-27 Islander</td>\n",
              "      <td>C-FJJRÂ</td>\n",
              "      <td>424</td>\n",
              "      <td>1.0</td>\n",
              "      <td>1.0</td>\n",
              "      <td>0.0</td>\n",
              "      <td>The air ambulance crashed into hills while att...</td>\n",
              "    </tr>\n",
              "    <tr>\n",
              "      <th>5267</th>\n",
              "      <td>6/8/2009</td>\n",
              "      <td>NaN</td>\n",
              "      <td>State of Arunachal Pradesh, India</td>\n",
              "      <td>Military - Indian Air Force</td>\n",
              "      <td>NaN</td>\n",
              "      <td>Mechuka for Jorhat</td>\n",
              "      <td>Antonov An-32</td>\n",
              "      <td>NaN</td>\n",
              "      <td>NaN</td>\n",
              "      <td>13.0</td>\n",
              "      <td>13.0</td>\n",
              "      <td>0.0</td>\n",
              "      <td>The military transport went missing while en r...</td>\n",
              "    </tr>\n",
              "  </tbody>\n",
              "</table>\n",
              "<p>5268 rows × 13 columns</p>\n",
              "</div>\n",
              "      <button class=\"colab-df-convert\" onclick=\"convertToInteractive('df-d6a2832b-e1d9-482c-939a-0aa641d446a3')\"\n",
              "              title=\"Convert this dataframe to an interactive table.\"\n",
              "              style=\"display:none;\">\n",
              "        \n",
              "  <svg xmlns=\"http://www.w3.org/2000/svg\" height=\"24px\"viewBox=\"0 0 24 24\"\n",
              "       width=\"24px\">\n",
              "    <path d=\"M0 0h24v24H0V0z\" fill=\"none\"/>\n",
              "    <path d=\"M18.56 5.44l.94 2.06.94-2.06 2.06-.94-2.06-.94-.94-2.06-.94 2.06-2.06.94zm-11 1L8.5 8.5l.94-2.06 2.06-.94-2.06-.94L8.5 2.5l-.94 2.06-2.06.94zm10 10l.94 2.06.94-2.06 2.06-.94-2.06-.94-.94-2.06-.94 2.06-2.06.94z\"/><path d=\"M17.41 7.96l-1.37-1.37c-.4-.4-.92-.59-1.43-.59-.52 0-1.04.2-1.43.59L10.3 9.45l-7.72 7.72c-.78.78-.78 2.05 0 2.83L4 21.41c.39.39.9.59 1.41.59.51 0 1.02-.2 1.41-.59l7.78-7.78 2.81-2.81c.8-.78.8-2.07 0-2.86zM5.41 20L4 18.59l7.72-7.72 1.47 1.35L5.41 20z\"/>\n",
              "  </svg>\n",
              "      </button>\n",
              "      \n",
              "  <style>\n",
              "    .colab-df-container {\n",
              "      display:flex;\n",
              "      flex-wrap:wrap;\n",
              "      gap: 12px;\n",
              "    }\n",
              "\n",
              "    .colab-df-convert {\n",
              "      background-color: #E8F0FE;\n",
              "      border: none;\n",
              "      border-radius: 50%;\n",
              "      cursor: pointer;\n",
              "      display: none;\n",
              "      fill: #1967D2;\n",
              "      height: 32px;\n",
              "      padding: 0 0 0 0;\n",
              "      width: 32px;\n",
              "    }\n",
              "\n",
              "    .colab-df-convert:hover {\n",
              "      background-color: #E2EBFA;\n",
              "      box-shadow: 0px 1px 2px rgba(60, 64, 67, 0.3), 0px 1px 3px 1px rgba(60, 64, 67, 0.15);\n",
              "      fill: #174EA6;\n",
              "    }\n",
              "\n",
              "    [theme=dark] .colab-df-convert {\n",
              "      background-color: #3B4455;\n",
              "      fill: #D2E3FC;\n",
              "    }\n",
              "\n",
              "    [theme=dark] .colab-df-convert:hover {\n",
              "      background-color: #434B5C;\n",
              "      box-shadow: 0px 1px 3px 1px rgba(0, 0, 0, 0.15);\n",
              "      filter: drop-shadow(0px 1px 2px rgba(0, 0, 0, 0.3));\n",
              "      fill: #FFFFFF;\n",
              "    }\n",
              "  </style>\n",
              "\n",
              "      <script>\n",
              "        const buttonEl =\n",
              "          document.querySelector('#df-d6a2832b-e1d9-482c-939a-0aa641d446a3 button.colab-df-convert');\n",
              "        buttonEl.style.display =\n",
              "          google.colab.kernel.accessAllowed ? 'block' : 'none';\n",
              "\n",
              "        async function convertToInteractive(key) {\n",
              "          const element = document.querySelector('#df-d6a2832b-e1d9-482c-939a-0aa641d446a3');\n",
              "          const dataTable =\n",
              "            await google.colab.kernel.invokeFunction('convertToInteractive',\n",
              "                                                     [key], {});\n",
              "          if (!dataTable) return;\n",
              "\n",
              "          const docLinkHtml = 'Like what you see? Visit the ' +\n",
              "            '<a target=\"_blank\" href=https://colab.research.google.com/notebooks/data_table.ipynb>data table notebook</a>'\n",
              "            + ' to learn more about interactive tables.';\n",
              "          element.innerHTML = '';\n",
              "          dataTable['output_type'] = 'display_data';\n",
              "          await google.colab.output.renderOutput(dataTable, element);\n",
              "          const docLink = document.createElement('div');\n",
              "          docLink.innerHTML = docLinkHtml;\n",
              "          element.appendChild(docLink);\n",
              "        }\n",
              "      </script>\n",
              "    </div>\n",
              "  </div>\n",
              "  "
            ]
          },
          "metadata": {},
          "execution_count": 3
        }
      ],
      "source": [
        "df = pd.read_csv('/content/drive/MyDrive/airplane.csv',encoding='Latin-1')\n",
        "df"
      ]
    },
    {
      "cell_type": "code",
      "execution_count": null,
      "metadata": {
        "colab": {
          "base_uri": "https://localhost:8080/"
        },
        "id": "gvf7GXMUO6Ib",
        "outputId": "9720177b-290b-418c-bb81-b7d709d6d1f8"
      },
      "outputs": [
        {
          "output_type": "execute_result",
          "data": {
            "text/plain": [
              "Index(['Date', 'Time', 'Location', 'Operator', 'Flight #', 'Route', 'Type',\n",
              "       'Registration', 'cn/In', 'Aboard', 'Fatalities', 'Ground', 'Summary'],\n",
              "      dtype='object')"
            ]
          },
          "metadata": {},
          "execution_count": 4
        }
      ],
      "source": [
        "df.columns"
      ]
    },
    {
      "cell_type": "code",
      "execution_count": null,
      "metadata": {
        "colab": {
          "base_uri": "https://localhost:8080/"
        },
        "id": "9KFK2SJ9PmJ8",
        "outputId": "8de3100a-c6fd-4356-8aec-98a8342f9524"
      },
      "outputs": [
        {
          "output_type": "execute_result",
          "data": {
            "text/plain": [
              "(5268, 13)"
            ]
          },
          "metadata": {},
          "execution_count": 5
        }
      ],
      "source": [
        "df.shape"
      ]
    },
    {
      "cell_type": "code",
      "execution_count": null,
      "metadata": {
        "colab": {
          "base_uri": "https://localhost:8080/"
        },
        "id": "xjyjWU1OPmMx",
        "outputId": "75e85c18-602c-4bd6-a167-f1064c085bed"
      },
      "outputs": [
        {
          "output_type": "stream",
          "name": "stdout",
          "text": [
            "<class 'pandas.core.frame.DataFrame'>\n",
            "RangeIndex: 5268 entries, 0 to 5267\n",
            "Data columns (total 13 columns):\n",
            " #   Column        Non-Null Count  Dtype  \n",
            "---  ------        --------------  -----  \n",
            " 0   Date          5268 non-null   object \n",
            " 1   Time          3049 non-null   object \n",
            " 2   Location      5248 non-null   object \n",
            " 3   Operator      5250 non-null   object \n",
            " 4   Flight #      1069 non-null   object \n",
            " 5   Route         3562 non-null   object \n",
            " 6   Type          5241 non-null   object \n",
            " 7   Registration  4933 non-null   object \n",
            " 8   cn/In         4040 non-null   object \n",
            " 9   Aboard        5246 non-null   float64\n",
            " 10  Fatalities    5256 non-null   float64\n",
            " 11  Ground        5246 non-null   float64\n",
            " 12  Summary       4878 non-null   object \n",
            "dtypes: float64(3), object(10)\n",
            "memory usage: 535.2+ KB\n"
          ]
        }
      ],
      "source": [
        "df.info()"
      ]
    },
    {
      "cell_type": "code",
      "execution_count": null,
      "metadata": {
        "colab": {
          "base_uri": "https://localhost:8080/"
        },
        "id": "_9Kbsnp4PmQI",
        "outputId": "bd9e472d-5087-44c0-9263-d71ee6cb7a71"
      },
      "outputs": [
        {
          "output_type": "execute_result",
          "data": {
            "text/plain": [
              "Date               0\n",
              "Time            2219\n",
              "Location          20\n",
              "Operator          18\n",
              "Flight #        4199\n",
              "Route           1706\n",
              "Type              27\n",
              "Registration     335\n",
              "cn/In           1228\n",
              "Aboard            22\n",
              "Fatalities        12\n",
              "Ground            22\n",
              "Summary          390\n",
              "dtype: int64"
            ]
          },
          "metadata": {},
          "execution_count": 7
        }
      ],
      "source": [
        "df.isnull().sum()"
      ]
    },
    {
      "cell_type": "code",
      "execution_count": null,
      "metadata": {
        "colab": {
          "base_uri": "https://localhost:8080/",
          "height": 54
        },
        "id": "EvTf9g61Pwj4",
        "outputId": "863456a3-67f0-4a9b-ee8b-210bc6448a17"
      },
      "outputs": [
        {
          "output_type": "display_data",
          "data": {
            "text/plain": [
              "<Figure size 2500x1000 with 3 Axes>"
            ],
            "image/png": "[encoded data removed]"
          },
          "metadata": {}
        }
      ],
      "source": [
        "msn.bar(df)\n",
        "plt.show()"
      ]
    },
    {
      "cell_type": "code",
      "execution_count": null,
      "metadata": {
        "colab": {
          "base_uri": "https://localhost:8080/"
        },
        "id": "wheBzBuiPwms",
        "outputId": "7cae3223-0445-49ca-f70c-1d546114090b"
      },
      "outputs": [
        {
          "output_type": "execute_result",
          "data": {
            "text/plain": [
              "Date            0.000000\n",
              "Time            0.421222\n",
              "Location        0.003797\n",
              "Operator        0.003417\n",
              "Flight #        0.797077\n",
              "Route           0.323842\n",
              "Type            0.005125\n",
              "Registration    0.063591\n",
              "cn/In           0.233106\n",
              "Aboard          0.004176\n",
              "Fatalities      0.002278\n",
              "Ground          0.004176\n",
              "Summary         0.074032\n",
              "dtype: float64"
            ]
          },
          "metadata": {},
          "execution_count": 9
        }
      ],
      "source": [
        "df.isnull().sum()/df.shape[0]"
      ]
    },
    {
      "cell_type": "code",
      "execution_count": null,
      "metadata": {
        "id": "8ry2C1TIPwp2"
      },
      "outputs": [],
      "source": [
        "df.drop([\"Flight #\", \"Registration\", \"cn/In\"], axis=1, inplace=True)"
      ]
    },
    {
      "cell_type": "code",
      "execution_count": null,
      "metadata": {
        "colab": {
          "base_uri": "https://localhost:8080/",
          "height": 948
        },
        "id": "Z4Bg6_k3P8pt",
        "outputId": "079098a8-2ed9-401a-956f-01715f786ba1"
      },
      "outputs": [
        {
          "output_type": "execute_result",
          "data": {
            "text/plain": [
              "         Date   Time                            Location  \\\n",
              "0   9/17/1908  17:18                 Fort Myer, Virginia   \n",
              "1   7/12/1912   6:30             AtlantiCity, New Jersey   \n",
              "2    8/6/1913    NaN  Victoria, British Columbia, Canada   \n",
              "3    9/9/1913  18:30                  Over the North Sea   \n",
              "4  10/17/1913  10:30          Near Johannisthal, Germany   \n",
              "5    3/5/1915   1:00                     Tienen, Belgium   \n",
              "6    9/3/1915  15:20               Off Cuxhaven, Germany   \n",
              "7   7/28/1916    NaN               Near Jambol, Bulgeria   \n",
              "8   9/24/1916   1:00                 Billericay, England   \n",
              "9   10/1/1916  23:45                Potters Bar, England   \n",
              "\n",
              "                 Operator          Route                           Type  \\\n",
              "0    Military - U.S. Army  Demonstration               Wright Flyer III   \n",
              "1    Military - U.S. Navy    Test flight                      Dirigible   \n",
              "2                 Private            NaN               Curtiss seaplane   \n",
              "3  Military - German Navy            NaN         Zeppelin L-1 (airship)   \n",
              "4  Military - German Navy            NaN         Zeppelin L-2 (airship)   \n",
              "5  Military - German Navy            NaN         Zeppelin L-8 (airship)   \n",
              "6  Military - German Navy            NaN        Zeppelin L-10 (airship)   \n",
              "7  Military - German Army            NaN  Schutte-Lanz S-L-10 (airship)   \n",
              "8  Military - German Navy            NaN        Zeppelin L-32 (airship)   \n",
              "9  Military - German Navy            NaN        Zeppelin L-31 (airship)   \n",
              "\n",
              "   Aboard  Fatalities  Ground  \\\n",
              "0     2.0         1.0     0.0   \n",
              "1     5.0         5.0     0.0   \n",
              "2     1.0         1.0     0.0   \n",
              "3    20.0        14.0     0.0   \n",
              "4    30.0        30.0     0.0   \n",
              "5    41.0        21.0     0.0   \n",
              "6    19.0        19.0     0.0   \n",
              "7    20.0        20.0     0.0   \n",
              "8    22.0        22.0     0.0   \n",
              "9    19.0        19.0     0.0   \n",
              "\n",
              "                                             Summary  \n",
              "0  During a demonstration flight, a U.S. Army fly...  \n",
              "1  First U.S. dirigible Akron exploded just offsh...  \n",
              "2  The first fatal airplane accident in Canada oc...  \n",
              "3  The airship flew into a thunderstorm and encou...  \n",
              "4  Hydrogen gas which was being vented was sucked...  \n",
              "5  Crashed into trees while attempting to land af...  \n",
              "6  Exploded and burned near Neuwerk Island,  when...  \n",
              "7         Crashed near the Black Sea, cause unknown.  \n",
              "8  Shot down by British aircraft crashing in flames.  \n",
              "9  Shot down in flames by the British 39th Home D...  "
            ],
            "text/html": [
              "\n",
              "  <div id=\"df-3b5cd3c6-f341-436e-bccf-2aa24defa249\">\n",
              "    <div class=\"colab-df-container\">\n",
              "      <div>\n",
              "<style scoped>\n",
              "    .dataframe tbody tr th:only-of-type {\n",
              "        vertical-align: middle;\n",
              "    }\n",
              "\n",
              "    .dataframe tbody tr th {\n",
              "        vertical-align: top;\n",
              "    }\n",
              "\n",
              "    .dataframe thead th {\n",
              "        text-align: right;\n",
              "    }\n",
              "</style>\n",
              "<table border=\"1\" class=\"dataframe\">\n",
              "  <thead>\n",
              "    <tr style=\"text-align: right;\">\n",
              "      <th></th>\n",
              "      <th>Date</th>\n",
              "      <th>Time</th>\n",
              "      <th>Location</th>\n",
              "      <th>Operator</th>\n",
              "      <th>Route</th>\n",
              "      <th>Type</th>\n",
              "      <th>Aboard</th>\n",
              "      <th>Fatalities</th>\n",
              "      <th>Ground</th>\n",
              "      <th>Summary</th>\n",
              "    </tr>\n",
              "  </thead>\n",
              "  <tbody>\n",
              "    <tr>\n",
              "      <th>0</th>\n",
              "      <td>9/17/1908</td>\n",
              "      <td>17:18</td>\n",
              "      <td>Fort Myer, Virginia</td>\n",
              "      <td>Military - U.S. Army</td>\n",
              "      <td>Demonstration</td>\n",
              "      <td>Wright Flyer III</td>\n",
              "      <td>2.0</td>\n",
              "      <td>1.0</td>\n",
              "      <td>0.0</td>\n",
              "      <td>During a demonstration flight, a U.S. Army fly...</td>\n",
              "    </tr>\n",
              "    <tr>\n",
              "      <th>1</th>\n",
              "      <td>7/12/1912</td>\n",
              "      <td>6:30</td>\n",
              "      <td>AtlantiCity, New Jersey</td>\n",
              "      <td>Military - U.S. Navy</td>\n",
              "      <td>Test flight</td>\n",
              "      <td>Dirigible</td>\n",
              "      <td>5.0</td>\n",
              "      <td>5.0</td>\n",
              "      <td>0.0</td>\n",
              "      <td>First U.S. dirigible Akron exploded just offsh...</td>\n",
              "    </tr>\n",
              "    <tr>\n",
              "      <th>2</th>\n",
              "      <td>8/6/1913</td>\n",
              "      <td>NaN</td>\n",
              "      <td>Victoria, British Columbia, Canada</td>\n",
              "      <td>Private</td>\n",
              "      <td>NaN</td>\n",
              "      <td>Curtiss seaplane</td>\n",
              "      <td>1.0</td>\n",
              "      <td>1.0</td>\n",
              "      <td>0.0</td>\n",
              "      <td>The first fatal airplane accident in Canada oc...</td>\n",
              "    </tr>\n",
              "    <tr>\n",
              "      <th>3</th>\n",
              "      <td>9/9/1913</td>\n",
              "      <td>18:30</td>\n",
              "      <td>Over the North Sea</td>\n",
              "      <td>Military - German Navy</td>\n",
              "      <td>NaN</td>\n",
              "      <td>Zeppelin L-1 (airship)</td>\n",
              "      <td>20.0</td>\n",
              "      <td>14.0</td>\n",
              "      <td>0.0</td>\n",
              "      <td>The airship flew into a thunderstorm and encou...</td>\n",
              "    </tr>\n",
              "    <tr>\n",
              "      <th>4</th>\n",
              "      <td>10/17/1913</td>\n",
              "      <td>10:30</td>\n",
              "      <td>Near Johannisthal, Germany</td>\n",
              "      <td>Military - German Navy</td>\n",
              "      <td>NaN</td>\n",
              "      <td>Zeppelin L-2 (airship)</td>\n",
              "      <td>30.0</td>\n",
              "      <td>30.0</td>\n",
              "      <td>0.0</td>\n",
              "      <td>Hydrogen gas which was being vented was sucked...</td>\n",
              "    </tr>\n",
              "    <tr>\n",
              "      <th>5</th>\n",
              "      <td>3/5/1915</td>\n",
              "      <td>1:00</td>\n",
              "      <td>Tienen, Belgium</td>\n",
              "      <td>Military - German Navy</td>\n",
              "      <td>NaN</td>\n",
              "      <td>Zeppelin L-8 (airship)</td>\n",
              "      <td>41.0</td>\n",
              "      <td>21.0</td>\n",
              "      <td>0.0</td>\n",
              "      <td>Crashed into trees while attempting to land af...</td>\n",
              "    </tr>\n",
              "    <tr>\n",
              "      <th>6</th>\n",
              "      <td>9/3/1915</td>\n",
              "      <td>15:20</td>\n",
              "      <td>Off Cuxhaven, Germany</td>\n",
              "      <td>Military - German Navy</td>\n",
              "      <td>NaN</td>\n",
              "      <td>Zeppelin L-10 (airship)</td>\n",
              "      <td>19.0</td>\n",
              "      <td>19.0</td>\n",
              "      <td>0.0</td>\n",
              "      <td>Exploded and burned near Neuwerk Island,  when...</td>\n",
              "    </tr>\n",
              "    <tr>\n",
              "      <th>7</th>\n",
              "      <td>7/28/1916</td>\n",
              "      <td>NaN</td>\n",
              "      <td>Near Jambol, Bulgeria</td>\n",
              "      <td>Military - German Army</td>\n",
              "      <td>NaN</td>\n",
              "      <td>Schutte-Lanz S-L-10 (airship)</td>\n",
              "      <td>20.0</td>\n",
              "      <td>20.0</td>\n",
              "      <td>0.0</td>\n",
              "      <td>Crashed near the Black Sea, cause unknown.</td>\n",
              "    </tr>\n",
              "    <tr>\n",
              "      <th>8</th>\n",
              "      <td>9/24/1916</td>\n",
              "      <td>1:00</td>\n",
              "      <td>Billericay, England</td>\n",
              "      <td>Military - German Navy</td>\n",
              "      <td>NaN</td>\n",
              "      <td>Zeppelin L-32 (airship)</td>\n",
              "      <td>22.0</td>\n",
              "      <td>22.0</td>\n",
              "      <td>0.0</td>\n",
              "      <td>Shot down by British aircraft crashing in flames.</td>\n",
              "    </tr>\n",
              "    <tr>\n",
              "      <th>9</th>\n",
              "      <td>10/1/1916</td>\n",
              "      <td>23:45</td>\n",
              "      <td>Potters Bar, England</td>\n",
              "      <td>Military - German Navy</td>\n",
              "      <td>NaN</td>\n",
              "      <td>Zeppelin L-31 (airship)</td>\n",
              "      <td>19.0</td>\n",
              "      <td>19.0</td>\n",
              "      <td>0.0</td>\n",
              "      <td>Shot down in flames by the British 39th Home D...</td>\n",
              "    </tr>\n",
              "  </tbody>\n",
              "</table>\n",
              "</div>\n",
              "      <button class=\"colab-df-convert\" onclick=\"convertToInteractive('df-3b5cd3c6-f341-436e-bccf-2aa24defa249')\"\n",
              "              title=\"Convert this dataframe to an interactive table.\"\n",
              "              style=\"display:none;\">\n",
              "        \n",
              "  <svg xmlns=\"http://www.w3.org/2000/svg\" height=\"24px\"viewBox=\"0 0 24 24\"\n",
              "       width=\"24px\">\n",
              "    <path d=\"M0 0h24v24H0V0z\" fill=\"none\"/>\n",
              "    <path d=\"M18.56 5.44l.94 2.06.94-2.06 2.06-.94-2.06-.94-.94-2.06-.94 2.06-2.06.94zm-11 1L8.5 8.5l.94-2.06 2.06-.94-2.06-.94L8.5 2.5l-.94 2.06-2.06.94zm10 10l.94 2.06.94-2.06 2.06-.94-2.06-.94-.94-2.06-.94 2.06-2.06.94z\"/><path d=\"M17.41 7.96l-1.37-1.37c-.4-.4-.92-.59-1.43-.59-.52 0-1.04.2-1.43.59L10.3 9.45l-7.72 7.72c-.78.78-.78 2.05 0 2.83L4 21.41c.39.39.9.59 1.41.59.51 0 1.02-.2 1.41-.59l7.78-7.78 2.81-2.81c.8-.78.8-2.07 0-2.86zM5.41 20L4 18.59l7.72-7.72 1.47 1.35L5.41 20z\"/>\n",
              "  </svg>\n",
              "      </button>\n",
              "      \n",
              "  <style>\n",
              "    .colab-df-container {\n",
              "      display:flex;\n",
              "      flex-wrap:wrap;\n",
              "      gap: 12px;\n",
              "    }\n",
              "\n",
              "    .colab-df-convert {\n",
              "      background-color: #E8F0FE;\n",
              "      border: none;\n",
              "      border-radius: 50%;\n",
              "      cursor: pointer;\n",
              "      display: none;\n",
              "      fill: #1967D2;\n",
              "      height: 32px;\n",
              "      padding: 0 0 0 0;\n",
              "      width: 32px;\n",
              "    }\n",
              "\n",
              "    .colab-df-convert:hover {\n",
              "      background-color: #E2EBFA;\n",
              "      box-shadow: 0px 1px 2px rgba(60, 64, 67, 0.3), 0px 1px 3px 1px rgba(60, 64, 67, 0.15);\n",
              "      fill: #174EA6;\n",
              "    }\n",
              "\n",
              "    [theme=dark] .colab-df-convert {\n",
              "      background-color: #3B4455;\n",
              "      fill: #D2E3FC;\n",
              "    }\n",
              "\n",
              "    [theme=dark] .colab-df-convert:hover {\n",
              "      background-color: #434B5C;\n",
              "      box-shadow: 0px 1px 3px 1px rgba(0, 0, 0, 0.15);\n",
              "      filter: drop-shadow(0px 1px 2px rgba(0, 0, 0, 0.3));\n",
              "      fill: #FFFFFF;\n",
              "    }\n",
              "  </style>\n",
              "\n",
              "      <script>\n",
              "        const buttonEl =\n",
              "          document.querySelector('#df-3b5cd3c6-f341-436e-bccf-2aa24defa249 button.colab-df-convert');\n",
              "        buttonEl.style.display =\n",
              "          google.colab.kernel.accessAllowed ? 'block' : 'none';\n",
              "\n",
              "        async function convertToInteractive(key) {\n",
              "          const element = document.querySelector('#df-3b5cd3c6-f341-436e-bccf-2aa24defa249');\n",
              "          const dataTable =\n",
              "            await google.colab.kernel.invokeFunction('convertToInteractive',\n",
              "                                                     [key], {});\n",
              "          if (!dataTable) return;\n",
              "\n",
              "          const docLinkHtml = 'Like what you see? Visit the ' +\n",
              "            '<a target=\"_blank\" href=https://colab.research.google.com/notebooks/data_table.ipynb>data table notebook</a>'\n",
              "            + ' to learn more about interactive tables.';\n",
              "          element.innerHTML = '';\n",
              "          dataTable['output_type'] = 'display_data';\n",
              "          await google.colab.output.renderOutput(dataTable, element);\n",
              "          const docLink = document.createElement('div');\n",
              "          docLink.innerHTML = docLinkHtml;\n",
              "          element.appendChild(docLink);\n",
              "        }\n",
              "      </script>\n",
              "    </div>\n",
              "  </div>\n",
              "  "
            ]
          },
          "metadata": {},
          "execution_count": 11
        }
      ],
      "source": [
        "df.head(10)"
      ]
    },
    {
      "cell_type": "code",
      "execution_count": null,
      "metadata": {
        "colab": {
          "base_uri": "https://localhost:8080/"
        },
        "id": "MicVtQrzP8sl",
        "outputId": "20819bab-3836-4b27-d7e4-9b7a96975f33"
      },
      "outputs": [
        {
          "output_type": "execute_result",
          "data": {
            "text/plain": [
              "0.0       5027\n",
              "1.0         53\n",
              "2.0         27\n",
              "3.0         21\n",
              "4.0         15\n",
              "5.0         10\n",
              "8.0         10\n",
              "7.0          8\n",
              "11.0         6\n",
              "6.0          6\n",
              "22.0         5\n",
              "13.0         4\n",
              "24.0         3\n",
              "10.0         3\n",
              "44.0         3\n",
              "20.0         3\n",
              "14.0         2\n",
              "2750.0       2\n",
              "30.0         2\n",
              "12.0         2\n",
              "19.0         2\n",
              "47.0         2\n",
              "52.0         2\n",
              "70.0         2\n",
              "54.0         1\n",
              "18.0         1\n",
              "45.0         1\n",
              "16.0         1\n",
              "35.0         1\n",
              "50.0         1\n",
              "23.0         1\n",
              "225.0        1\n",
              "125.0        1\n",
              "75.0         1\n",
              "15.0         1\n",
              "32.0         1\n",
              "49.0         1\n",
              "9.0          1\n",
              "40.0         1\n",
              "36.0         1\n",
              "113.0        1\n",
              "107.0        1\n",
              "33.0         1\n",
              "87.0         1\n",
              "31.0         1\n",
              "63.0         1\n",
              "17.0         1\n",
              "37.0         1\n",
              "58.0         1\n",
              "85.0         1\n",
              "Name: Ground, dtype: int64"
            ]
          },
          "metadata": {},
          "execution_count": 12
        }
      ],
      "source": [
        "df[\"Ground\"].value_counts()"
      ]
    },
    {
      "cell_type": "code",
      "execution_count": null,
      "metadata": {
        "colab": {
          "base_uri": "https://localhost:8080/"
        },
        "id": "N7IQ5DCnP8vr",
        "outputId": "bcd2ed9d-ff21-4183-cde1-38c8683e035f"
      },
      "outputs": [
        {
          "output_type": "execute_result",
          "data": {
            "text/plain": [
              "Date          4753\n",
              "Time           999\n",
              "Location      4303\n",
              "Operator      2476\n",
              "Route         3244\n",
              "Type          2446\n",
              "Aboard         239\n",
              "Fatalities     191\n",
              "Ground          50\n",
              "Summary       4673\n",
              "dtype: int64"
            ]
          },
          "metadata": {},
          "execution_count": 13
        }
      ],
      "source": [
        "df.nunique()"
      ]
    },
    {
      "cell_type": "code",
      "execution_count": null,
      "metadata": {
        "colab": {
          "base_uri": "https://localhost:8080/",
          "height": 207
        },
        "id": "WJG5oGF1QOmR",
        "outputId": "53fc5646-73ba-426f-e6f7-ebced23f6c06"
      },
      "outputs": [
        {
          "output_type": "execute_result",
          "data": {
            "text/plain": [
              "             count       mean        std  min  25%   50%   75%     max\n",
              "Aboard      5246.0  27.554518  43.076711  0.0  5.0  13.0  30.0   644.0\n",
              "Fatalities  5256.0  20.068303  33.199952  0.0  3.0   9.0  23.0   583.0\n",
              "Ground      5246.0   1.608845  53.987827  0.0  0.0   0.0   0.0  2750.0"
            ],
            "text/html": [
              "\n",
              "  <div id=\"df-5a7effbd-87ad-401f-a3c4-005b17ec76e1\">\n",
              "    <div class=\"colab-df-container\">\n",
              "      <div>\n",
              "<style scoped>\n",
              "    .dataframe tbody tr th:only-of-type {\n",
              "        vertical-align: middle;\n",
              "    }\n",
              "\n",
              "    .dataframe tbody tr th {\n",
              "        vertical-align: top;\n",
              "    }\n",
              "\n",
              "    .dataframe thead th {\n",
              "        text-align: right;\n",
              "    }\n",
              "</style>\n",
              "<table border=\"1\" class=\"dataframe\">\n",
              "  <thead>\n",
              "    <tr style=\"text-align: right;\">\n",
              "      <th></th>\n",
              "      <th>count</th>\n",
              "      <th>mean</th>\n",
              "      <th>std</th>\n",
              "      <th>min</th>\n",
              "      <th>25%</th>\n",
              "      <th>50%</th>\n",
              "      <th>75%</th>\n",
              "      <th>max</th>\n",
              "    </tr>\n",
              "  </thead>\n",
              "  <tbody>\n",
              "    <tr>\n",
              "      <th>Aboard</th>\n",
              "      <td>5246.0</td>\n",
              "      <td>27.554518</td>\n",
              "      <td>43.076711</td>\n",
              "      <td>0.0</td>\n",
              "      <td>5.0</td>\n",
              "      <td>13.0</td>\n",
              "      <td>30.0</td>\n",
              "      <td>644.0</td>\n",
              "    </tr>\n",
              "    <tr>\n",
              "      <th>Fatalities</th>\n",
              "      <td>5256.0</td>\n",
              "      <td>20.068303</td>\n",
              "      <td>33.199952</td>\n",
              "      <td>0.0</td>\n",
              "      <td>3.0</td>\n",
              "      <td>9.0</td>\n",
              "      <td>23.0</td>\n",
              "      <td>583.0</td>\n",
              "    </tr>\n",
              "    <tr>\n",
              "      <th>Ground</th>\n",
              "      <td>5246.0</td>\n",
              "      <td>1.608845</td>\n",
              "      <td>53.987827</td>\n",
              "      <td>0.0</td>\n",
              "      <td>0.0</td>\n",
              "      <td>0.0</td>\n",
              "      <td>0.0</td>\n",
              "      <td>2750.0</td>\n",
              "    </tr>\n",
              "  </tbody>\n",
              "</table>\n",
              "</div>\n",
              "      <button class=\"colab-df-convert\" onclick=\"convertToInteractive('df-5a7effbd-87ad-401f-a3c4-005b17ec76e1')\"\n",
              "              title=\"Convert this dataframe to an interactive table.\"\n",
              "              style=\"display:none;\">\n",
              "        \n",
              "  <svg xmlns=\"http://www.w3.org/2000/svg\" height=\"24px\"viewBox=\"0 0 24 24\"\n",
              "       width=\"24px\">\n",
              "    <path d=\"M0 0h24v24H0V0z\" fill=\"none\"/>\n",
              "    <path d=\"M18.56 5.44l.94 2.06.94-2.06 2.06-.94-2.06-.94-.94-2.06-.94 2.06-2.06.94zm-11 1L8.5 8.5l.94-2.06 2.06-.94-2.06-.94L8.5 2.5l-.94 2.06-2.06.94zm10 10l.94 2.06.94-2.06 2.06-.94-2.06-.94-.94-2.06-.94 2.06-2.06.94z\"/><path d=\"M17.41 7.96l-1.37-1.37c-.4-.4-.92-.59-1.43-.59-.52 0-1.04.2-1.43.59L10.3 9.45l-7.72 7.72c-.78.78-.78 2.05 0 2.83L4 21.41c.39.39.9.59 1.41.59.51 0 1.02-.2 1.41-.59l7.78-7.78 2.81-2.81c.8-.78.8-2.07 0-2.86zM5.41 20L4 18.59l7.72-7.72 1.47 1.35L5.41 20z\"/>\n",
              "  </svg>\n",
              "      </button>\n",
              "      \n",
              "  <style>\n",
              "    .colab-df-container {\n",
              "      display:flex;\n",
              "      flex-wrap:wrap;\n",
              "      gap: 12px;\n",
              "    }\n",
              "\n",
              "    .colab-df-convert {\n",
              "      background-color: #E8F0FE;\n",
              "      border: none;\n",
              "      border-radius: 50%;\n",
              "      cursor: pointer;\n",
              "      display: none;\n",
              "      fill: #1967D2;\n",
              "      height: 32px;\n",
              "      padding: 0 0 0 0;\n",
              "      width: 32px;\n",
              "    }\n",
              "\n",
              "    .colab-df-convert:hover {\n",
              "      background-color: #E2EBFA;\n",
              "      box-shadow: 0px 1px 2px rgba(60, 64, 67, 0.3), 0px 1px 3px 1px rgba(60, 64, 67, 0.15);\n",
              "      fill: #174EA6;\n",
              "    }\n",
              "\n",
              "    [theme=dark] .colab-df-convert {\n",
              "      background-color: #3B4455;\n",
              "      fill: #D2E3FC;\n",
              "    }\n",
              "\n",
              "    [theme=dark] .colab-df-convert:hover {\n",
              "      background-color: #434B5C;\n",
              "      box-shadow: 0px 1px 3px 1px rgba(0, 0, 0, 0.15);\n",
              "      filter: drop-shadow(0px 1px 2px rgba(0, 0, 0, 0.3));\n",
              "      fill: #FFFFFF;\n",
              "    }\n",
              "  </style>\n",
              "\n",
              "      <script>\n",
              "        const buttonEl =\n",
              "          document.querySelector('#df-5a7effbd-87ad-401f-a3c4-005b17ec76e1 button.colab-df-convert');\n",
              "        buttonEl.style.display =\n",
              "          google.colab.kernel.accessAllowed ? 'block' : 'none';\n",
              "\n",
              "        async function convertToInteractive(key) {\n",
              "          const element = document.querySelector('#df-5a7effbd-87ad-401f-a3c4-005b17ec76e1');\n",
              "          const dataTable =\n",
              "            await google.colab.kernel.invokeFunction('convertToInteractive',\n",
              "                                                     [key], {});\n",
              "          if (!dataTable) return;\n",
              "\n",
              "          const docLinkHtml = 'Like what you see? Visit the ' +\n",
              "            '<a target=\"_blank\" href=https://colab.research.google.com/notebooks/data_table.ipynb>data table notebook</a>'\n",
              "            + ' to learn more about interactive tables.';\n",
              "          element.innerHTML = '';\n",
              "          dataTable['output_type'] = 'display_data';\n",
              "          await google.colab.output.renderOutput(dataTable, element);\n",
              "          const docLink = document.createElement('div');\n",
              "          docLink.innerHTML = docLinkHtml;\n",
              "          element.appendChild(docLink);\n",
              "        }\n",
              "      </script>\n",
              "    </div>\n",
              "  </div>\n",
              "  "
            ]
          },
          "metadata": {},
          "execution_count": 14
        }
      ],
      "source": [
        "df.describe().T"
      ]
    },
    {
      "cell_type": "code",
      "execution_count": null,
      "metadata": {
        "colab": {
          "base_uri": "https://localhost:8080/",
          "height": 531
        },
        "id": "N3orj1QyQOo2",
        "outputId": "374f3eac-6147-4ecc-aeb9-5285636fa298"
      },
      "outputs": [
        {
          "output_type": "execute_result",
          "data": {
            "text/plain": [
              "         Date   Time                            Location  \\\n",
              "0   9/17/1908  17:18                 Fort Myer, Virginia   \n",
              "1   7/12/1912   6:30             AtlantiCity, New Jersey   \n",
              "2    8/6/1913    NaN  Victoria, British Columbia, Canada   \n",
              "3    9/9/1913  18:30                  Over the North Sea   \n",
              "4  10/17/1913  10:30          Near Johannisthal, Germany   \n",
              "\n",
              "                 Operator          Route                    Type  Aboard  \\\n",
              "0    Military - U.S. Army  Demonstration        Wright Flyer III     2.0   \n",
              "1    Military - U.S. Navy    Test flight               Dirigible     5.0   \n",
              "2                 Private            NaN        Curtiss seaplane     1.0   \n",
              "3  Military - German Navy            NaN  Zeppelin L-1 (airship)    20.0   \n",
              "4  Military - German Navy            NaN  Zeppelin L-2 (airship)    30.0   \n",
              "\n",
              "   Fatalities  Ground                                            Summary  \n",
              "0         1.0     0.0  During a demonstration flight, a U.S. Army fly...  \n",
              "1         5.0     0.0  First U.S. dirigible Akron exploded just offsh...  \n",
              "2         1.0     0.0  The first fatal airplane accident in Canada oc...  \n",
              "3        14.0     0.0  The airship flew into a thunderstorm and encou...  \n",
              "4        30.0     0.0  Hydrogen gas which was being vented was sucked...  "
            ],
            "text/html": [
              "\n",
              "  <div id=\"df-c29d1263-be22-4aa9-ace9-2244df35121e\">\n",
              "    <div class=\"colab-df-container\">\n",
              "      <div>\n",
              "<style scoped>\n",
              "    .dataframe tbody tr th:only-of-type {\n",
              "        vertical-align: middle;\n",
              "    }\n",
              "\n",
              "    .dataframe tbody tr th {\n",
              "        vertical-align: top;\n",
              "    }\n",
              "\n",
              "    .dataframe thead th {\n",
              "        text-align: right;\n",
              "    }\n",
              "</style>\n",
              "<table border=\"1\" class=\"dataframe\">\n",
              "  <thead>\n",
              "    <tr style=\"text-align: right;\">\n",
              "      <th></th>\n",
              "      <th>Date</th>\n",
              "      <th>Time</th>\n",
              "      <th>Location</th>\n",
              "      <th>Operator</th>\n",
              "      <th>Route</th>\n",
              "      <th>Type</th>\n",
              "      <th>Aboard</th>\n",
              "      <th>Fatalities</th>\n",
              "      <th>Ground</th>\n",
              "      <th>Summary</th>\n",
              "    </tr>\n",
              "  </thead>\n",
              "  <tbody>\n",
              "    <tr>\n",
              "      <th>0</th>\n",
              "      <td>9/17/1908</td>\n",
              "      <td>17:18</td>\n",
              "      <td>Fort Myer, Virginia</td>\n",
              "      <td>Military - U.S. Army</td>\n",
              "      <td>Demonstration</td>\n",
              "      <td>Wright Flyer III</td>\n",
              "      <td>2.0</td>\n",
              "      <td>1.0</td>\n",
              "      <td>0.0</td>\n",
              "      <td>During a demonstration flight, a U.S. Army fly...</td>\n",
              "    </tr>\n",
              "    <tr>\n",
              "      <th>1</th>\n",
              "      <td>7/12/1912</td>\n",
              "      <td>6:30</td>\n",
              "      <td>AtlantiCity, New Jersey</td>\n",
              "      <td>Military - U.S. Navy</td>\n",
              "      <td>Test flight</td>\n",
              "      <td>Dirigible</td>\n",
              "      <td>5.0</td>\n",
              "      <td>5.0</td>\n",
              "      <td>0.0</td>\n",
              "      <td>First U.S. dirigible Akron exploded just offsh...</td>\n",
              "    </tr>\n",
              "    <tr>\n",
              "      <th>2</th>\n",
              "      <td>8/6/1913</td>\n",
              "      <td>NaN</td>\n",
              "      <td>Victoria, British Columbia, Canada</td>\n",
              "      <td>Private</td>\n",
              "      <td>NaN</td>\n",
              "      <td>Curtiss seaplane</td>\n",
              "      <td>1.0</td>\n",
              "      <td>1.0</td>\n",
              "      <td>0.0</td>\n",
              "      <td>The first fatal airplane accident in Canada oc...</td>\n",
              "    </tr>\n",
              "    <tr>\n",
              "      <th>3</th>\n",
              "      <td>9/9/1913</td>\n",
              "      <td>18:30</td>\n",
              "      <td>Over the North Sea</td>\n",
              "      <td>Military - German Navy</td>\n",
              "      <td>NaN</td>\n",
              "      <td>Zeppelin L-1 (airship)</td>\n",
              "      <td>20.0</td>\n",
              "      <td>14.0</td>\n",
              "      <td>0.0</td>\n",
              "      <td>The airship flew into a thunderstorm and encou...</td>\n",
              "    </tr>\n",
              "    <tr>\n",
              "      <th>4</th>\n",
              "      <td>10/17/1913</td>\n",
              "      <td>10:30</td>\n",
              "      <td>Near Johannisthal, Germany</td>\n",
              "      <td>Military - German Navy</td>\n",
              "      <td>NaN</td>\n",
              "      <td>Zeppelin L-2 (airship)</td>\n",
              "      <td>30.0</td>\n",
              "      <td>30.0</td>\n",
              "      <td>0.0</td>\n",
              "      <td>Hydrogen gas which was being vented was sucked...</td>\n",
              "    </tr>\n",
              "  </tbody>\n",
              "</table>\n",
              "</div>\n",
              "      <button class=\"colab-df-convert\" onclick=\"convertToInteractive('df-c29d1263-be22-4aa9-ace9-2244df35121e')\"\n",
              "              title=\"Convert this dataframe to an interactive table.\"\n",
              "              style=\"display:none;\">\n",
              "        \n",
              "  <svg xmlns=\"http://www.w3.org/2000/svg\" height=\"24px\"viewBox=\"0 0 24 24\"\n",
              "       width=\"24px\">\n",
              "    <path d=\"M0 0h24v24H0V0z\" fill=\"none\"/>\n",
              "    <path d=\"M18.56 5.44l.94 2.06.94-2.06 2.06-.94-2.06-.94-.94-2.06-.94 2.06-2.06.94zm-11 1L8.5 8.5l.94-2.06 2.06-.94-2.06-.94L8.5 2.5l-.94 2.06-2.06.94zm10 10l.94 2.06.94-2.06 2.06-.94-2.06-.94-.94-2.06-.94 2.06-2.06.94z\"/><path d=\"M17.41 7.96l-1.37-1.37c-.4-.4-.92-.59-1.43-.59-.52 0-1.04.2-1.43.59L10.3 9.45l-7.72 7.72c-.78.78-.78 2.05 0 2.83L4 21.41c.39.39.9.59 1.41.59.51 0 1.02-.2 1.41-.59l7.78-7.78 2.81-2.81c.8-.78.8-2.07 0-2.86zM5.41 20L4 18.59l7.72-7.72 1.47 1.35L5.41 20z\"/>\n",
              "  </svg>\n",
              "      </button>\n",
              "      \n",
              "  <style>\n",
              "    .colab-df-container {\n",
              "      display:flex;\n",
              "      flex-wrap:wrap;\n",
              "      gap: 12px;\n",
              "    }\n",
              "\n",
              "    .colab-df-convert {\n",
              "      background-color: #E8F0FE;\n",
              "      border: none;\n",
              "      border-radius: 50%;\n",
              "      cursor: pointer;\n",
              "      display: none;\n",
              "      fill: #1967D2;\n",
              "      height: 32px;\n",
              "      padding: 0 0 0 0;\n",
              "      width: 32px;\n",
              "    }\n",
              "\n",
              "    .colab-df-convert:hover {\n",
              "      background-color: #E2EBFA;\n",
              "      box-shadow: 0px 1px 2px rgba(60, 64, 67, 0.3), 0px 1px 3px 1px rgba(60, 64, 67, 0.15);\n",
              "      fill: #174EA6;\n",
              "    }\n",
              "\n",
              "    [theme=dark] .colab-df-convert {\n",
              "      background-color: #3B4455;\n",
              "      fill: #D2E3FC;\n",
              "    }\n",
              "\n",
              "    [theme=dark] .colab-df-convert:hover {\n",
              "      background-color: #434B5C;\n",
              "      box-shadow: 0px 1px 3px 1px rgba(0, 0, 0, 0.15);\n",
              "      filter: drop-shadow(0px 1px 2px rgba(0, 0, 0, 0.3));\n",
              "      fill: #FFFFFF;\n",
              "    }\n",
              "  </style>\n",
              "\n",
              "      <script>\n",
              "        const buttonEl =\n",
              "          document.querySelector('#df-c29d1263-be22-4aa9-ace9-2244df35121e button.colab-df-convert');\n",
              "        buttonEl.style.display =\n",
              "          google.colab.kernel.accessAllowed ? 'block' : 'none';\n",
              "\n",
              "        async function convertToInteractive(key) {\n",
              "          const element = document.querySelector('#df-c29d1263-be22-4aa9-ace9-2244df35121e');\n",
              "          const dataTable =\n",
              "            await google.colab.kernel.invokeFunction('convertToInteractive',\n",
              "                                                     [key], {});\n",
              "          if (!dataTable) return;\n",
              "\n",
              "          const docLinkHtml = 'Like what you see? Visit the ' +\n",
              "            '<a target=\"_blank\" href=https://colab.research.google.com/notebooks/data_table.ipynb>data table notebook</a>'\n",
              "            + ' to learn more about interactive tables.';\n",
              "          element.innerHTML = '';\n",
              "          dataTable['output_type'] = 'display_data';\n",
              "          await google.colab.output.renderOutput(dataTable, element);\n",
              "          const docLink = document.createElement('div');\n",
              "          docLink.innerHTML = docLinkHtml;\n",
              "          element.appendChild(docLink);\n",
              "        }\n",
              "      </script>\n",
              "    </div>\n",
              "  </div>\n",
              "  "
            ]
          },
          "metadata": {},
          "execution_count": 15
        }
      ],
      "source": [
        "df.head(5)"
      ]
    },
    {
      "cell_type": "code",
      "execution_count": null,
      "metadata": {
        "colab": {
          "base_uri": "https://localhost:8080/"
        },
        "id": "3IKnNzWWQOsX",
        "outputId": "84b7f6c7-5130-4b20-95b4-bcde7f68a97e"
      },
      "outputs": [
        {
          "output_type": "execute_result",
          "data": {
            "text/plain": [
              "Sao Paulo, Brazil                    15\n",
              "Moscow, Russia                       15\n",
              "Rio de Janeiro, Brazil               14\n",
              "Anchorage, Alaska                    13\n",
              "Manila, Philippines                  13\n",
              "                                     ..\n",
              "Near Charana, Bolivia                 1\n",
              "Monte Matto, Italy                    1\n",
              "Misaki Mountain, Japan                1\n",
              "Angelholm, Sweden                     1\n",
              "State of Arunachal Pradesh, India     1\n",
              "Name: Location, Length: 4303, dtype: int64"
            ]
          },
          "metadata": {},
          "execution_count": 16
        }
      ],
      "source": [
        "df['Location'].value_counts()"
      ]
    },
    {
      "cell_type": "code",
      "execution_count": null,
      "metadata": {
        "colab": {
          "base_uri": "https://localhost:8080/",
          "height": 1000
        },
        "id": "PhWksn7vQb95",
        "outputId": "b8791e40-3540-4541-ace7-185d09990acd"
      },
      "outputs": [
        {
          "output_type": "execute_result",
          "data": {
            "text/plain": [
              "               Location                                            Summary\n",
              "469   Sao Paulo, Brazil           The mail plane crashed while taking off.\n",
              "664   Sao Paulo, Brazil                                    Crashed in fog.\n",
              "836   Sao Paulo, Brazil  Crashed into the Solimoes extension of the Ama...\n",
              "1148  Sao Paulo, Brazil  Crashed into a house shortly after taking off ...\n",
              "1203  Sao Paulo, Brazil  Crashed while attempting to make an emergency ...\n",
              "1269  Sao Paulo, Brazil  Crashed while on final approach to Sao Paulo. ...\n",
              "1327  Sao Paulo, Brazil  The cargo plane crashed on takeoff. Elevator l...\n",
              "1406  Sao Paulo, Brazil                                Crashed on takeoff.\n",
              "1619  Sao Paulo, Brazil  Crashed a few minutes after taking off from Sa...\n",
              "1828  Sao Paulo, Brazil  The crippled airliner crashed into houses and ...\n",
              "1848  Sao Paulo, Brazil  The aircraft returned to airport after the No....\n",
              "3601  Sao Paulo, Brazil  The crew accidently tried to take off from a t...\n",
              "4406  Sao Paulo, Brazil  The crew was advised they were too high and fa...\n",
              "5159  Sao Paulo, Brazil  The jet airliner crashed while attempting to l...\n",
              "5177  Sao Paulo, Brazil  The executive jet took off, banked to the righ..."
            ],
            "text/html": [
              "\n",
              "  <div id=\"df-9736a579-818f-42cd-a1db-5174536c0448\">\n",
              "    <div class=\"colab-df-container\">\n",
              "      <div>\n",
              "<style scoped>\n",
              "    .dataframe tbody tr th:only-of-type {\n",
              "        vertical-align: middle;\n",
              "    }\n",
              "\n",
              "    .dataframe tbody tr th {\n",
              "        vertical-align: top;\n",
              "    }\n",
              "\n",
              "    .dataframe thead th {\n",
              "        text-align: right;\n",
              "    }\n",
              "</style>\n",
              "<table border=\"1\" class=\"dataframe\">\n",
              "  <thead>\n",
              "    <tr style=\"text-align: right;\">\n",
              "      <th></th>\n",
              "      <th>Location</th>\n",
              "      <th>Summary</th>\n",
              "    </tr>\n",
              "  </thead>\n",
              "  <tbody>\n",
              "    <tr>\n",
              "      <th>469</th>\n",
              "      <td>Sao Paulo, Brazil</td>\n",
              "      <td>The mail plane crashed while taking off.</td>\n",
              "    </tr>\n",
              "    <tr>\n",
              "      <th>664</th>\n",
              "      <td>Sao Paulo, Brazil</td>\n",
              "      <td>Crashed in fog.</td>\n",
              "    </tr>\n",
              "    <tr>\n",
              "      <th>836</th>\n",
              "      <td>Sao Paulo, Brazil</td>\n",
              "      <td>Crashed into the Solimoes extension of the Ama...</td>\n",
              "    </tr>\n",
              "    <tr>\n",
              "      <th>1148</th>\n",
              "      <td>Sao Paulo, Brazil</td>\n",
              "      <td>Crashed into a house shortly after taking off ...</td>\n",
              "    </tr>\n",
              "    <tr>\n",
              "      <th>1203</th>\n",
              "      <td>Sao Paulo, Brazil</td>\n",
              "      <td>Crashed while attempting to make an emergency ...</td>\n",
              "    </tr>\n",
              "    <tr>\n",
              "      <th>1269</th>\n",
              "      <td>Sao Paulo, Brazil</td>\n",
              "      <td>Crashed while on final approach to Sao Paulo. ...</td>\n",
              "    </tr>\n",
              "    <tr>\n",
              "      <th>1327</th>\n",
              "      <td>Sao Paulo, Brazil</td>\n",
              "      <td>The cargo plane crashed on takeoff. Elevator l...</td>\n",
              "    </tr>\n",
              "    <tr>\n",
              "      <th>1406</th>\n",
              "      <td>Sao Paulo, Brazil</td>\n",
              "      <td>Crashed on takeoff.</td>\n",
              "    </tr>\n",
              "    <tr>\n",
              "      <th>1619</th>\n",
              "      <td>Sao Paulo, Brazil</td>\n",
              "      <td>Crashed a few minutes after taking off from Sa...</td>\n",
              "    </tr>\n",
              "    <tr>\n",
              "      <th>1828</th>\n",
              "      <td>Sao Paulo, Brazil</td>\n",
              "      <td>The crippled airliner crashed into houses and ...</td>\n",
              "    </tr>\n",
              "    <tr>\n",
              "      <th>1848</th>\n",
              "      <td>Sao Paulo, Brazil</td>\n",
              "      <td>The aircraft returned to airport after the No....</td>\n",
              "    </tr>\n",
              "    <tr>\n",
              "      <th>3601</th>\n",
              "      <td>Sao Paulo, Brazil</td>\n",
              "      <td>The crew accidently tried to take off from a t...</td>\n",
              "    </tr>\n",
              "    <tr>\n",
              "      <th>4406</th>\n",
              "      <td>Sao Paulo, Brazil</td>\n",
              "      <td>The crew was advised they were too high and fa...</td>\n",
              "    </tr>\n",
              "    <tr>\n",
              "      <th>5159</th>\n",
              "      <td>Sao Paulo, Brazil</td>\n",
              "      <td>The jet airliner crashed while attempting to l...</td>\n",
              "    </tr>\n",
              "    <tr>\n",
              "      <th>5177</th>\n",
              "      <td>Sao Paulo, Brazil</td>\n",
              "      <td>The executive jet took off, banked to the righ...</td>\n",
              "    </tr>\n",
              "  </tbody>\n",
              "</table>\n",
              "</div>\n",
              "      <button class=\"colab-df-convert\" onclick=\"convertToInteractive('df-9736a579-818f-42cd-a1db-5174536c0448')\"\n",
              "              title=\"Convert this dataframe to an interactive table.\"\n",
              "              style=\"display:none;\">\n",
              "        \n",
              "  <svg xmlns=\"http://www.w3.org/2000/svg\" height=\"24px\"viewBox=\"0 0 24 24\"\n",
              "       width=\"24px\">\n",
              "    <path d=\"M0 0h24v24H0V0z\" fill=\"none\"/>\n",
              "    <path d=\"M18.56 5.44l.94 2.06.94-2.06 2.06-.94-2.06-.94-.94-2.06-.94 2.06-2.06.94zm-11 1L8.5 8.5l.94-2.06 2.06-.94-2.06-.94L8.5 2.5l-.94 2.06-2.06.94zm10 10l.94 2.06.94-2.06 2.06-.94-2.06-.94-.94-2.06-.94 2.06-2.06.94z\"/><path d=\"M17.41 7.96l-1.37-1.37c-.4-.4-.92-.59-1.43-.59-.52 0-1.04.2-1.43.59L10.3 9.45l-7.72 7.72c-.78.78-.78 2.05 0 2.83L4 21.41c.39.39.9.59 1.41.59.51 0 1.02-.2 1.41-.59l7.78-7.78 2.81-2.81c.8-.78.8-2.07 0-2.86zM5.41 20L4 18.59l7.72-7.72 1.47 1.35L5.41 20z\"/>\n",
              "  </svg>\n",
              "      </button>\n",
              "      \n",
              "  <style>\n",
              "    .colab-df-container {\n",
              "      display:flex;\n",
              "      flex-wrap:wrap;\n",
              "      gap: 12px;\n",
              "    }\n",
              "\n",
              "    .colab-df-convert {\n",
              "      background-color: #E8F0FE;\n",
              "      border: none;\n",
              "      border-radius: 50%;\n",
              "      cursor: pointer;\n",
              "      display: none;\n",
              "      fill: #1967D2;\n",
              "      height: 32px;\n",
              "      padding: 0 0 0 0;\n",
              "      width: 32px;\n",
              "    }\n",
              "\n",
              "    .colab-df-convert:hover {\n",
              "      background-color: #E2EBFA;\n",
              "      box-shadow: 0px 1px 2px rgba(60, 64, 67, 0.3), 0px 1px 3px 1px rgba(60, 64, 67, 0.15);\n",
              "      fill: #174EA6;\n",
              "    }\n",
              "\n",
              "    [theme=dark] .colab-df-convert {\n",
              "      background-color: #3B4455;\n",
              "      fill: #D2E3FC;\n",
              "    }\n",
              "\n",
              "    [theme=dark] .colab-df-convert:hover {\n",
              "      background-color: #434B5C;\n",
              "      box-shadow: 0px 1px 3px 1px rgba(0, 0, 0, 0.15);\n",
              "      filter: drop-shadow(0px 1px 2px rgba(0, 0, 0, 0.3));\n",
              "      fill: #FFFFFF;\n",
              "    }\n",
              "  </style>\n",
              "\n",
              "      <script>\n",
              "        const buttonEl =\n",
              "          document.querySelector('#df-9736a579-818f-42cd-a1db-5174536c0448 button.colab-df-convert');\n",
              "        buttonEl.style.display =\n",
              "          google.colab.kernel.accessAllowed ? 'block' : 'none';\n",
              "\n",
              "        async function convertToInteractive(key) {\n",
              "          const element = document.querySelector('#df-9736a579-818f-42cd-a1db-5174536c0448');\n",
              "          const dataTable =\n",
              "            await google.colab.kernel.invokeFunction('convertToInteractive',\n",
              "                                                     [key], {});\n",
              "          if (!dataTable) return;\n",
              "\n",
              "          const docLinkHtml = 'Like what you see? Visit the ' +\n",
              "            '<a target=\"_blank\" href=https://colab.research.google.com/notebooks/data_table.ipynb>data table notebook</a>'\n",
              "            + ' to learn more about interactive tables.';\n",
              "          element.innerHTML = '';\n",
              "          dataTable['output_type'] = 'display_data';\n",
              "          await google.colab.output.renderOutput(dataTable, element);\n",
              "          const docLink = document.createElement('div');\n",
              "          docLink.innerHTML = docLinkHtml;\n",
              "          element.appendChild(docLink);\n",
              "        }\n",
              "      </script>\n",
              "    </div>\n",
              "  </div>\n",
              "  "
            ]
          },
          "metadata": {},
          "execution_count": 17
        }
      ],
      "source": [
        "df[(df['Location']=='Sao Paulo, Brazil')][['Location','Summary']]"
      ]
    },
    {
      "cell_type": "code",
      "execution_count": null,
      "metadata": {
        "colab": {
          "base_uri": "https://localhost:8080/",
          "height": 416
        },
        "id": "9sPqKVU3QcA5",
        "outputId": "c22e8b93-a5c0-4c90-d468-d398a621d5b1"
      },
      "outputs": [
        {
          "output_type": "execute_result",
          "data": {
            "text/plain": [
              "            Date   Time           Location         Operator  \\\n",
              "1406  12/19/1955    NaN  Sao Paulo, Brazil  Cruzeiro Do Sud   \n",
              "1848    5/3/1963    NaN  Sao Paulo, Brazil         Cruzeiro   \n",
              "5159   7/17/2007  18:52  Sao Paulo, Brazil     TAM (Brazil)   \n",
              "\n",
              "                           Route               Type  Aboard  Fatalities  \\\n",
              "1406           Sao Paulo - Belem       Douglas DC-3    26.0        26.0   \n",
              "1848  Sao Paulo - Rio de Janeiro  Convair CV-340-59    50.0        37.0   \n",
              "5159    Porto Alegre - Sao Paulo   Airbus A-320-233   187.0       187.0   \n",
              "\n",
              "      Ground                                            Summary  \n",
              "1406     0.0                                Crashed on takeoff.  \n",
              "1848     0.0  The aircraft returned to airport after the No....  \n",
              "5159    12.0  The jet airliner crashed while attempting to l...  "
            ],
            "text/html": [
              "\n",
              "  <div id=\"df-d87a9c0a-409c-412d-b473-34d5dcb39174\">\n",
              "    <div class=\"colab-df-container\">\n",
              "      <div>\n",
              "<style scoped>\n",
              "    .dataframe tbody tr th:only-of-type {\n",
              "        vertical-align: middle;\n",
              "    }\n",
              "\n",
              "    .dataframe tbody tr th {\n",
              "        vertical-align: top;\n",
              "    }\n",
              "\n",
              "    .dataframe thead th {\n",
              "        text-align: right;\n",
              "    }\n",
              "</style>\n",
              "<table border=\"1\" class=\"dataframe\">\n",
              "  <thead>\n",
              "    <tr style=\"text-align: right;\">\n",
              "      <th></th>\n",
              "      <th>Date</th>\n",
              "      <th>Time</th>\n",
              "      <th>Location</th>\n",
              "      <th>Operator</th>\n",
              "      <th>Route</th>\n",
              "      <th>Type</th>\n",
              "      <th>Aboard</th>\n",
              "      <th>Fatalities</th>\n",
              "      <th>Ground</th>\n",
              "      <th>Summary</th>\n",
              "    </tr>\n",
              "  </thead>\n",
              "  <tbody>\n",
              "    <tr>\n",
              "      <th>1406</th>\n",
              "      <td>12/19/1955</td>\n",
              "      <td>NaN</td>\n",
              "      <td>Sao Paulo, Brazil</td>\n",
              "      <td>Cruzeiro Do Sud</td>\n",
              "      <td>Sao Paulo - Belem</td>\n",
              "      <td>Douglas DC-3</td>\n",
              "      <td>26.0</td>\n",
              "      <td>26.0</td>\n",
              "      <td>0.0</td>\n",
              "      <td>Crashed on takeoff.</td>\n",
              "    </tr>\n",
              "    <tr>\n",
              "      <th>1848</th>\n",
              "      <td>5/3/1963</td>\n",
              "      <td>NaN</td>\n",
              "      <td>Sao Paulo, Brazil</td>\n",
              "      <td>Cruzeiro</td>\n",
              "      <td>Sao Paulo - Rio de Janeiro</td>\n",
              "      <td>Convair CV-340-59</td>\n",
              "      <td>50.0</td>\n",
              "      <td>37.0</td>\n",
              "      <td>0.0</td>\n",
              "      <td>The aircraft returned to airport after the No....</td>\n",
              "    </tr>\n",
              "    <tr>\n",
              "      <th>5159</th>\n",
              "      <td>7/17/2007</td>\n",
              "      <td>18:52</td>\n",
              "      <td>Sao Paulo, Brazil</td>\n",
              "      <td>TAM (Brazil)</td>\n",
              "      <td>Porto Alegre - Sao Paulo</td>\n",
              "      <td>Airbus A-320-233</td>\n",
              "      <td>187.0</td>\n",
              "      <td>187.0</td>\n",
              "      <td>12.0</td>\n",
              "      <td>The jet airliner crashed while attempting to l...</td>\n",
              "    </tr>\n",
              "  </tbody>\n",
              "</table>\n",
              "</div>\n",
              "      <button class=\"colab-df-convert\" onclick=\"convertToInteractive('df-d87a9c0a-409c-412d-b473-34d5dcb39174')\"\n",
              "              title=\"Convert this dataframe to an interactive table.\"\n",
              "              style=\"display:none;\">\n",
              "        \n",
              "  <svg xmlns=\"http://www.w3.org/2000/svg\" height=\"24px\"viewBox=\"0 0 24 24\"\n",
              "       width=\"24px\">\n",
              "    <path d=\"M0 0h24v24H0V0z\" fill=\"none\"/>\n",
              "    <path d=\"M18.56 5.44l.94 2.06.94-2.06 2.06-.94-2.06-.94-.94-2.06-.94 2.06-2.06.94zm-11 1L8.5 8.5l.94-2.06 2.06-.94-2.06-.94L8.5 2.5l-.94 2.06-2.06.94zm10 10l.94 2.06.94-2.06 2.06-.94-2.06-.94-.94-2.06-.94 2.06-2.06.94z\"/><path d=\"M17.41 7.96l-1.37-1.37c-.4-.4-.92-.59-1.43-.59-.52 0-1.04.2-1.43.59L10.3 9.45l-7.72 7.72c-.78.78-.78 2.05 0 2.83L4 21.41c.39.39.9.59 1.41.59.51 0 1.02-.2 1.41-.59l7.78-7.78 2.81-2.81c.8-.78.8-2.07 0-2.86zM5.41 20L4 18.59l7.72-7.72 1.47 1.35L5.41 20z\"/>\n",
              "  </svg>\n",
              "      </button>\n",
              "      \n",
              "  <style>\n",
              "    .colab-df-container {\n",
              "      display:flex;\n",
              "      flex-wrap:wrap;\n",
              "      gap: 12px;\n",
              "    }\n",
              "\n",
              "    .colab-df-convert {\n",
              "      background-color: #E8F0FE;\n",
              "      border: none;\n",
              "      border-radius: 50%;\n",
              "      cursor: pointer;\n",
              "      display: none;\n",
              "      fill: #1967D2;\n",
              "      height: 32px;\n",
              "      padding: 0 0 0 0;\n",
              "      width: 32px;\n",
              "    }\n",
              "\n",
              "    .colab-df-convert:hover {\n",
              "      background-color: #E2EBFA;\n",
              "      box-shadow: 0px 1px 2px rgba(60, 64, 67, 0.3), 0px 1px 3px 1px rgba(60, 64, 67, 0.15);\n",
              "      fill: #174EA6;\n",
              "    }\n",
              "\n",
              "    [theme=dark] .colab-df-convert {\n",
              "      background-color: #3B4455;\n",
              "      fill: #D2E3FC;\n",
              "    }\n",
              "\n",
              "    [theme=dark] .colab-df-convert:hover {\n",
              "      background-color: #434B5C;\n",
              "      box-shadow: 0px 1px 3px 1px rgba(0, 0, 0, 0.15);\n",
              "      filter: drop-shadow(0px 1px 2px rgba(0, 0, 0, 0.3));\n",
              "      fill: #FFFFFF;\n",
              "    }\n",
              "  </style>\n",
              "\n",
              "      <script>\n",
              "        const buttonEl =\n",
              "          document.querySelector('#df-d87a9c0a-409c-412d-b473-34d5dcb39174 button.colab-df-convert');\n",
              "        buttonEl.style.display =\n",
              "          google.colab.kernel.accessAllowed ? 'block' : 'none';\n",
              "\n",
              "        async function convertToInteractive(key) {\n",
              "          const element = document.querySelector('#df-d87a9c0a-409c-412d-b473-34d5dcb39174');\n",
              "          const dataTable =\n",
              "            await google.colab.kernel.invokeFunction('convertToInteractive',\n",
              "                                                     [key], {});\n",
              "          if (!dataTable) return;\n",
              "\n",
              "          const docLinkHtml = 'Like what you see? Visit the ' +\n",
              "            '<a target=\"_blank\" href=https://colab.research.google.com/notebooks/data_table.ipynb>data table notebook</a>'\n",
              "            + ' to learn more about interactive tables.';\n",
              "          element.innerHTML = '';\n",
              "          dataTable['output_type'] = 'display_data';\n",
              "          await google.colab.output.renderOutput(dataTable, element);\n",
              "          const docLink = document.createElement('div');\n",
              "          docLink.innerHTML = docLinkHtml;\n",
              "          element.appendChild(docLink);\n",
              "        }\n",
              "      </script>\n",
              "    </div>\n",
              "  </div>\n",
              "  "
            ]
          },
          "metadata": {},
          "execution_count": 18
        }
      ],
      "source": [
        "df[(df['Fatalities']>20) & (df['Location']=='Sao Paulo, Brazil')]"
      ]
    },
    {
      "cell_type": "code",
      "execution_count": null,
      "metadata": {
        "colab": {
          "base_uri": "https://localhost:8080/",
          "height": 54
        },
        "id": "MdQxxi7NQcEH",
        "outputId": "6b9e3fc0-4b45-4c67-c8ef-889978ad013b"
      },
      "outputs": [
        {
          "output_type": "display_data",
          "data": {
            "text/plain": [
              "<Figure size 640x480 with 1 Axes>"
            ],
            "image/png": "[encoded data removed]"
          },
          "metadata": {}
        }
      ],
      "source": [
        "df.plot(x=\"Aboard\", y=\"Fatalities\", kind=\"scatter\")\n",
        "plt.show()"
      ]
    },
    {
      "cell_type": "code",
      "execution_count": null,
      "metadata": {
        "colab": {
          "base_uri": "https://localhost:8080/"
        },
        "id": "FATZG72dQnHq",
        "outputId": "a0f976c9-56a5-4b26-b025-5e102c58f323"
      },
      "outputs": [
        {
          "output_type": "execute_result",
          "data": {
            "text/plain": [
              "Training                      81\n",
              "Sightseeing                   29\n",
              "Test flight                   17\n",
              "Test                           6\n",
              "Sao Paulo - Rio de Janeiro     5\n",
              "                              ..\n",
              "Manila - Lapu Lapu             1\n",
              "Saint Denis - Paris            1\n",
              "Cork - London                  1\n",
              "Peoria, IL - St. Louis, MO     1\n",
              "Mechuka for Jorhat             1\n",
              "Name: Route, Length: 3244, dtype: int64"
            ]
          },
          "metadata": {},
          "execution_count": 20
        }
      ],
      "source": [
        "df['Route'].value_counts()\n"
      ]
    },
    {
      "cell_type": "code",
      "execution_count": null,
      "metadata": {
        "id": "ZSkXAhpUQnK3"
      },
      "outputs": [],
      "source": [
        "df['Time'] = df['Time'].str.replace('c: ', '')\n",
        "df['Time'] = df['Time'].str.replace('c:', '')\n",
        "df['Time'] = df['Time'].str.replace('c', '')\n",
        "df['Time'] = df['Time'].str.replace('12\\'20', '12:20')\n",
        "df['Time'] = df['Time'].str.replace('18.40', '18:40')\n",
        "df['Time'] = df['Time'].str.replace('0943', '09:43')\n",
        "df['Time'] = df['Time'].str.replace('22\\'08', '22:08')\n",
        "df['Time'] = df['Time'].str.replace('114:20', '00:00')"
      ]
    },
    {
      "cell_type": "code",
      "execution_count": null,
      "metadata": {
        "id": "aF7JCf8ZQvIG"
      },
      "outputs": [],
      "source": [
        "df['Time'] = df['Time'].fillna('00:00')"
      ]
    },
    {
      "cell_type": "code",
      "execution_count": null,
      "metadata": {
        "id": "gP8cY6NxQvKz"
      },
      "outputs": [],
      "source": [
        "df['DateTime'] = df['Date'] + ' ' + df['Time']"
      ]
    },
    {
      "cell_type": "code",
      "execution_count": null,
      "metadata": {
        "colab": {
          "base_uri": "https://localhost:8080/",
          "height": 531
        },
        "id": "WYMXaj64QvNx",
        "outputId": "07e1d869-2fa2-4e87-fa58-42b4b73f5f00"
      },
      "outputs": [
        {
          "output_type": "execute_result",
          "data": {
            "text/plain": [
              "         Date   Time                            Location  \\\n",
              "0   9/17/1908  17:18                 Fort Myer, Virginia   \n",
              "1   7/12/1912   6:30             AtlantiCity, New Jersey   \n",
              "2    8/6/1913  00:00  Victoria, British Columbia, Canada   \n",
              "3    9/9/1913  18:30                  Over the North Sea   \n",
              "4  10/17/1913  10:30          Near Johannisthal, Germany   \n",
              "\n",
              "                 Operator          Route                    Type  Aboard  \\\n",
              "0    Military - U.S. Army  Demonstration        Wright Flyer III     2.0   \n",
              "1    Military - U.S. Navy    Test flight               Dirigible     5.0   \n",
              "2                 Private            NaN        Curtiss seaplane     1.0   \n",
              "3  Military - German Navy            NaN  Zeppelin L-1 (airship)    20.0   \n",
              "4  Military - German Navy            NaN  Zeppelin L-2 (airship)    30.0   \n",
              "\n",
              "   Fatalities  Ground                                            Summary  \\\n",
              "0         1.0     0.0  During a demonstration flight, a U.S. Army fly...   \n",
              "1         5.0     0.0  First U.S. dirigible Akron exploded just offsh...   \n",
              "2         1.0     0.0  The first fatal airplane accident in Canada oc...   \n",
              "3        14.0     0.0  The airship flew into a thunderstorm and encou...   \n",
              "4        30.0     0.0  Hydrogen gas which was being vented was sucked...   \n",
              "\n",
              "           DateTime  \n",
              "0   9/17/1908 17:18  \n",
              "1    7/12/1912 6:30  \n",
              "2    8/6/1913 00:00  \n",
              "3    9/9/1913 18:30  \n",
              "4  10/17/1913 10:30  "
            ],
            "text/html": [
              "\n",
              "  <div id=\"df-725b3f47-6e2b-4474-b168-5de0d58ea774\">\n",
              "    <div class=\"colab-df-container\">\n",
              "      <div>\n",
              "<style scoped>\n",
              "    .dataframe tbody tr th:only-of-type {\n",
              "        vertical-align: middle;\n",
              "    }\n",
              "\n",
              "    .dataframe tbody tr th {\n",
              "        vertical-align: top;\n",
              "    }\n",
              "\n",
              "    .dataframe thead th {\n",
              "        text-align: right;\n",
              "    }\n",
              "</style>\n",
              "<table border=\"1\" class=\"dataframe\">\n",
              "  <thead>\n",
              "    <tr style=\"text-align: right;\">\n",
              "      <th></th>\n",
              "      <th>Date</th>\n",
              "      <th>Time</th>\n",
              "      <th>Location</th>\n",
              "      <th>Operator</th>\n",
              "      <th>Route</th>\n",
              "      <th>Type</th>\n",
              "      <th>Aboard</th>\n",
              "      <th>Fatalities</th>\n",
              "      <th>Ground</th>\n",
              "      <th>Summary</th>\n",
              "      <th>DateTime</th>\n",
              "    </tr>\n",
              "  </thead>\n",
              "  <tbody>\n",
              "    <tr>\n",
              "      <th>0</th>\n",
              "      <td>9/17/1908</td>\n",
              "      <td>17:18</td>\n",
              "      <td>Fort Myer, Virginia</td>\n",
              "      <td>Military - U.S. Army</td>\n",
              "      <td>Demonstration</td>\n",
              "      <td>Wright Flyer III</td>\n",
              "      <td>2.0</td>\n",
              "      <td>1.0</td>\n",
              "      <td>0.0</td>\n",
              "      <td>During a demonstration flight, a U.S. Army fly...</td>\n",
              "      <td>9/17/1908 17:18</td>\n",
              "    </tr>\n",
              "    <tr>\n",
              "      <th>1</th>\n",
              "      <td>7/12/1912</td>\n",
              "      <td>6:30</td>\n",
              "      <td>AtlantiCity, New Jersey</td>\n",
              "      <td>Military - U.S. Navy</td>\n",
              "      <td>Test flight</td>\n",
              "      <td>Dirigible</td>\n",
              "      <td>5.0</td>\n",
              "      <td>5.0</td>\n",
              "      <td>0.0</td>\n",
              "      <td>First U.S. dirigible Akron exploded just offsh...</td>\n",
              "      <td>7/12/1912 6:30</td>\n",
              "    </tr>\n",
              "    <tr>\n",
              "      <th>2</th>\n",
              "      <td>8/6/1913</td>\n",
              "      <td>00:00</td>\n",
              "      <td>Victoria, British Columbia, Canada</td>\n",
              "      <td>Private</td>\n",
              "      <td>NaN</td>\n",
              "      <td>Curtiss seaplane</td>\n",
              "      <td>1.0</td>\n",
              "      <td>1.0</td>\n",
              "      <td>0.0</td>\n",
              "      <td>The first fatal airplane accident in Canada oc...</td>\n",
              "      <td>8/6/1913 00:00</td>\n",
              "    </tr>\n",
              "    <tr>\n",
              "      <th>3</th>\n",
              "      <td>9/9/1913</td>\n",
              "      <td>18:30</td>\n",
              "      <td>Over the North Sea</td>\n",
              "      <td>Military - German Navy</td>\n",
              "      <td>NaN</td>\n",
              "      <td>Zeppelin L-1 (airship)</td>\n",
              "      <td>20.0</td>\n",
              "      <td>14.0</td>\n",
              "      <td>0.0</td>\n",
              "      <td>The airship flew into a thunderstorm and encou...</td>\n",
              "      <td>9/9/1913 18:30</td>\n",
              "    </tr>\n",
              "    <tr>\n",
              "      <th>4</th>\n",
              "      <td>10/17/1913</td>\n",
              "      <td>10:30</td>\n",
              "      <td>Near Johannisthal, Germany</td>\n",
              "      <td>Military - German Navy</td>\n",
              "      <td>NaN</td>\n",
              "      <td>Zeppelin L-2 (airship)</td>\n",
              "      <td>30.0</td>\n",
              "      <td>30.0</td>\n",
              "      <td>0.0</td>\n",
              "      <td>Hydrogen gas which was being vented was sucked...</td>\n",
              "      <td>10/17/1913 10:30</td>\n",
              "    </tr>\n",
              "  </tbody>\n",
              "</table>\n",
              "</div>\n",
              "      <button class=\"colab-df-convert\" onclick=\"convertToInteractive('df-725b3f47-6e2b-4474-b168-5de0d58ea774')\"\n",
              "              title=\"Convert this dataframe to an interactive table.\"\n",
              "              style=\"display:none;\">\n",
              "        \n",
              "  <svg xmlns=\"http://www.w3.org/2000/svg\" height=\"24px\"viewBox=\"0 0 24 24\"\n",
              "       width=\"24px\">\n",
              "    <path d=\"M0 0h24v24H0V0z\" fill=\"none\"/>\n",
              "    <path d=\"M18.56 5.44l.94 2.06.94-2.06 2.06-.94-2.06-.94-.94-2.06-.94 2.06-2.06.94zm-11 1L8.5 8.5l.94-2.06 2.06-.94-2.06-.94L8.5 2.5l-.94 2.06-2.06.94zm10 10l.94 2.06.94-2.06 2.06-.94-2.06-.94-.94-2.06-.94 2.06-2.06.94z\"/><path d=\"M17.41 7.96l-1.37-1.37c-.4-.4-.92-.59-1.43-.59-.52 0-1.04.2-1.43.59L10.3 9.45l-7.72 7.72c-.78.78-.78 2.05 0 2.83L4 21.41c.39.39.9.59 1.41.59.51 0 1.02-.2 1.41-.59l7.78-7.78 2.81-2.81c.8-.78.8-2.07 0-2.86zM5.41 20L4 18.59l7.72-7.72 1.47 1.35L5.41 20z\"/>\n",
              "  </svg>\n",
              "      </button>\n",
              "      \n",
              "  <style>\n",
              "    .colab-df-container {\n",
              "      display:flex;\n",
              "      flex-wrap:wrap;\n",
              "      gap: 12px;\n",
              "    }\n",
              "\n",
              "    .colab-df-convert {\n",
              "      background-color: #E8F0FE;\n",
              "      border: none;\n",
              "      border-radius: 50%;\n",
              "      cursor: pointer;\n",
              "      display: none;\n",
              "      fill: #1967D2;\n",
              "      height: 32px;\n",
              "      padding: 0 0 0 0;\n",
              "      width: 32px;\n",
              "    }\n",
              "\n",
              "    .colab-df-convert:hover {\n",
              "      background-color: #E2EBFA;\n",
              "      box-shadow: 0px 1px 2px rgba(60, 64, 67, 0.3), 0px 1px 3px 1px rgba(60, 64, 67, 0.15);\n",
              "      fill: #174EA6;\n",
              "    }\n",
              "\n",
              "    [theme=dark] .colab-df-convert {\n",
              "      background-color: #3B4455;\n",
              "      fill: #D2E3FC;\n",
              "    }\n",
              "\n",
              "    [theme=dark] .colab-df-convert:hover {\n",
              "      background-color: #434B5C;\n",
              "      box-shadow: 0px 1px 3px 1px rgba(0, 0, 0, 0.15);\n",
              "      filter: drop-shadow(0px 1px 2px rgba(0, 0, 0, 0.3));\n",
              "      fill: #FFFFFF;\n",
              "    }\n",
              "  </style>\n",
              "\n",
              "      <script>\n",
              "        const buttonEl =\n",
              "          document.querySelector('#df-725b3f47-6e2b-4474-b168-5de0d58ea774 button.colab-df-convert');\n",
              "        buttonEl.style.display =\n",
              "          google.colab.kernel.accessAllowed ? 'block' : 'none';\n",
              "\n",
              "        async function convertToInteractive(key) {\n",
              "          const element = document.querySelector('#df-725b3f47-6e2b-4474-b168-5de0d58ea774');\n",
              "          const dataTable =\n",
              "            await google.colab.kernel.invokeFunction('convertToInteractive',\n",
              "                                                     [key], {});\n",
              "          if (!dataTable) return;\n",
              "\n",
              "          const docLinkHtml = 'Like what you see? Visit the ' +\n",
              "            '<a target=\"_blank\" href=https://colab.research.google.com/notebooks/data_table.ipynb>data table notebook</a>'\n",
              "            + ' to learn more about interactive tables.';\n",
              "          element.innerHTML = '';\n",
              "          dataTable['output_type'] = 'display_data';\n",
              "          await google.colab.output.renderOutput(dataTable, element);\n",
              "          const docLink = document.createElement('div');\n",
              "          docLink.innerHTML = docLinkHtml;\n",
              "          element.appendChild(docLink);\n",
              "        }\n",
              "      </script>\n",
              "    </div>\n",
              "  </div>\n",
              "  "
            ]
          },
          "metadata": {},
          "execution_count": 24
        }
      ],
      "source": [
        "df.head()"
      ]
    },
    {
      "cell_type": "markdown",
      "metadata": {
        "id": "yYZqvPWLxbth"
      },
      "source": [
        "#Survivors"
      ]
    },
    {
      "cell_type": "code",
      "execution_count": null,
      "metadata": {
        "colab": {
          "base_uri": "https://localhost:8080/",
          "height": 531
        },
        "id": "4NIexiUjxarK",
        "outputId": "a5e6c945-8239-4dd7-c098-26713ba9245c"
      },
      "outputs": [
        {
          "output_type": "execute_result",
          "data": {
            "text/plain": [
              "         Date   Time                            Location  \\\n",
              "0   9/17/1908  17:18                 Fort Myer, Virginia   \n",
              "1   7/12/1912   6:30             AtlantiCity, New Jersey   \n",
              "2    8/6/1913  00:00  Victoria, British Columbia, Canada   \n",
              "3    9/9/1913  18:30                  Over the North Sea   \n",
              "4  10/17/1913  10:30          Near Johannisthal, Germany   \n",
              "\n",
              "                 Operator          Route                    Type  Aboard  \\\n",
              "0    Military - U.S. Army  Demonstration        Wright Flyer III     2.0   \n",
              "1    Military - U.S. Navy    Test flight               Dirigible     5.0   \n",
              "2                 Private            NaN        Curtiss seaplane     1.0   \n",
              "3  Military - German Navy            NaN  Zeppelin L-1 (airship)    20.0   \n",
              "4  Military - German Navy            NaN  Zeppelin L-2 (airship)    30.0   \n",
              "\n",
              "   Fatalities  Ground                                            Summary  \\\n",
              "0         1.0     0.0  During a demonstration flight, a U.S. Army fly...   \n",
              "1         5.0     0.0  First U.S. dirigible Akron exploded just offsh...   \n",
              "2         1.0     0.0  The first fatal airplane accident in Canada oc...   \n",
              "3        14.0     0.0  The airship flew into a thunderstorm and encou...   \n",
              "4        30.0     0.0  Hydrogen gas which was being vented was sucked...   \n",
              "\n",
              "           DateTime  Survivors  \n",
              "0   9/17/1908 17:18        1.0  \n",
              "1    7/12/1912 6:30        0.0  \n",
              "2    8/6/1913 00:00        0.0  \n",
              "3    9/9/1913 18:30        6.0  \n",
              "4  10/17/1913 10:30        0.0  "
            ],
            "text/html": [
              "\n",
              "  <div id=\"df-8ac2f5be-1639-483d-802c-e32ce64a474f\">\n",
              "    <div class=\"colab-df-container\">\n",
              "      <div>\n",
              "<style scoped>\n",
              "    .dataframe tbody tr th:only-of-type {\n",
              "        vertical-align: middle;\n",
              "    }\n",
              "\n",
              "    .dataframe tbody tr th {\n",
              "        vertical-align: top;\n",
              "    }\n",
              "\n",
              "    .dataframe thead th {\n",
              "        text-align: right;\n",
              "    }\n",
              "</style>\n",
              "<table border=\"1\" class=\"dataframe\">\n",
              "  <thead>\n",
              "    <tr style=\"text-align: right;\">\n",
              "      <th></th>\n",
              "      <th>Date</th>\n",
              "      <th>Time</th>\n",
              "      <th>Location</th>\n",
              "      <th>Operator</th>\n",
              "      <th>Route</th>\n",
              "      <th>Type</th>\n",
              "      <th>Aboard</th>\n",
              "      <th>Fatalities</th>\n",
              "      <th>Ground</th>\n",
              "      <th>Summary</th>\n",
              "      <th>DateTime</th>\n",
              "      <th>Survivors</th>\n",
              "    </tr>\n",
              "  </thead>\n",
              "  <tbody>\n",
              "    <tr>\n",
              "      <th>0</th>\n",
              "      <td>9/17/1908</td>\n",
              "      <td>17:18</td>\n",
              "      <td>Fort Myer, Virginia</td>\n",
              "      <td>Military - U.S. Army</td>\n",
              "      <td>Demonstration</td>\n",
              "      <td>Wright Flyer III</td>\n",
              "      <td>2.0</td>\n",
              "      <td>1.0</td>\n",
              "      <td>0.0</td>\n",
              "      <td>During a demonstration flight, a U.S. Army fly...</td>\n",
              "      <td>9/17/1908 17:18</td>\n",
              "      <td>1.0</td>\n",
              "    </tr>\n",
              "    <tr>\n",
              "      <th>1</th>\n",
              "      <td>7/12/1912</td>\n",
              "      <td>6:30</td>\n",
              "      <td>AtlantiCity, New Jersey</td>\n",
              "      <td>Military - U.S. Navy</td>\n",
              "      <td>Test flight</td>\n",
              "      <td>Dirigible</td>\n",
              "      <td>5.0</td>\n",
              "      <td>5.0</td>\n",
              "      <td>0.0</td>\n",
              "      <td>First U.S. dirigible Akron exploded just offsh...</td>\n",
              "      <td>7/12/1912 6:30</td>\n",
              "      <td>0.0</td>\n",
              "    </tr>\n",
              "    <tr>\n",
              "      <th>2</th>\n",
              "      <td>8/6/1913</td>\n",
              "      <td>00:00</td>\n",
              "      <td>Victoria, British Columbia, Canada</td>\n",
              "      <td>Private</td>\n",
              "      <td>NaN</td>\n",
              "      <td>Curtiss seaplane</td>\n",
              "      <td>1.0</td>\n",
              "      <td>1.0</td>\n",
              "      <td>0.0</td>\n",
              "      <td>The first fatal airplane accident in Canada oc...</td>\n",
              "      <td>8/6/1913 00:00</td>\n",
              "      <td>0.0</td>\n",
              "    </tr>\n",
              "    <tr>\n",
              "      <th>3</th>\n",
              "      <td>9/9/1913</td>\n",
              "      <td>18:30</td>\n",
              "      <td>Over the North Sea</td>\n",
              "      <td>Military - German Navy</td>\n",
              "      <td>NaN</td>\n",
              "      <td>Zeppelin L-1 (airship)</td>\n",
              "      <td>20.0</td>\n",
              "      <td>14.0</td>\n",
              "      <td>0.0</td>\n",
              "      <td>The airship flew into a thunderstorm and encou...</td>\n",
              "      <td>9/9/1913 18:30</td>\n",
              "      <td>6.0</td>\n",
              "    </tr>\n",
              "    <tr>\n",
              "      <th>4</th>\n",
              "      <td>10/17/1913</td>\n",
              "      <td>10:30</td>\n",
              "      <td>Near Johannisthal, Germany</td>\n",
              "      <td>Military - German Navy</td>\n",
              "      <td>NaN</td>\n",
              "      <td>Zeppelin L-2 (airship)</td>\n",
              "      <td>30.0</td>\n",
              "      <td>30.0</td>\n",
              "      <td>0.0</td>\n",
              "      <td>Hydrogen gas which was being vented was sucked...</td>\n",
              "      <td>10/17/1913 10:30</td>\n",
              "      <td>0.0</td>\n",
              "    </tr>\n",
              "  </tbody>\n",
              "</table>\n",
              "</div>\n",
              "      <button class=\"colab-df-convert\" onclick=\"convertToInteractive('df-8ac2f5be-1639-483d-802c-e32ce64a474f')\"\n",
              "              title=\"Convert this dataframe to an interactive table.\"\n",
              "              style=\"display:none;\">\n",
              "        \n",
              "  <svg xmlns=\"http://www.w3.org/2000/svg\" height=\"24px\"viewBox=\"0 0 24 24\"\n",
              "       width=\"24px\">\n",
              "    <path d=\"M0 0h24v24H0V0z\" fill=\"none\"/>\n",
              "    <path d=\"M18.56 5.44l.94 2.06.94-2.06 2.06-.94-2.06-.94-.94-2.06-.94 2.06-2.06.94zm-11 1L8.5 8.5l.94-2.06 2.06-.94-2.06-.94L8.5 2.5l-.94 2.06-2.06.94zm10 10l.94 2.06.94-2.06 2.06-.94-2.06-.94-.94-2.06-.94 2.06-2.06.94z\"/><path d=\"M17.41 7.96l-1.37-1.37c-.4-.4-.92-.59-1.43-.59-.52 0-1.04.2-1.43.59L10.3 9.45l-7.72 7.72c-.78.78-.78 2.05 0 2.83L4 21.41c.39.39.9.59 1.41.59.51 0 1.02-.2 1.41-.59l7.78-7.78 2.81-2.81c.8-.78.8-2.07 0-2.86zM5.41 20L4 18.59l7.72-7.72 1.47 1.35L5.41 20z\"/>\n",
              "  </svg>\n",
              "      </button>\n",
              "      \n",
              "  <style>\n",
              "    .colab-df-container {\n",
              "      display:flex;\n",
              "      flex-wrap:wrap;\n",
              "      gap: 12px;\n",
              "    }\n",
              "\n",
              "    .colab-df-convert {\n",
              "      background-color: #E8F0FE;\n",
              "      border: none;\n",
              "      border-radius: 50%;\n",
              "      cursor: pointer;\n",
              "      display: none;\n",
              "      fill: #1967D2;\n",
              "      height: 32px;\n",
              "      padding: 0 0 0 0;\n",
              "      width: 32px;\n",
              "    }\n",
              "\n",
              "    .colab-df-convert:hover {\n",
              "      background-color: #E2EBFA;\n",
              "      box-shadow: 0px 1px 2px rgba(60, 64, 67, 0.3), 0px 1px 3px 1px rgba(60, 64, 67, 0.15);\n",
              "      fill: #174EA6;\n",
              "    }\n",
              "\n",
              "    [theme=dark] .colab-df-convert {\n",
              "      background-color: #3B4455;\n",
              "      fill: #D2E3FC;\n",
              "    }\n",
              "\n",
              "    [theme=dark] .colab-df-convert:hover {\n",
              "      background-color: #434B5C;\n",
              "      box-shadow: 0px 1px 3px 1px rgba(0, 0, 0, 0.15);\n",
              "      filter: drop-shadow(0px 1px 2px rgba(0, 0, 0, 0.3));\n",
              "      fill: #FFFFFF;\n",
              "    }\n",
              "  </style>\n",
              "\n",
              "      <script>\n",
              "        const buttonEl =\n",
              "          document.querySelector('#df-8ac2f5be-1639-483d-802c-e32ce64a474f button.colab-df-convert');\n",
              "        buttonEl.style.display =\n",
              "          google.colab.kernel.accessAllowed ? 'block' : 'none';\n",
              "\n",
              "        async function convertToInteractive(key) {\n",
              "          const element = document.querySelector('#df-8ac2f5be-1639-483d-802c-e32ce64a474f');\n",
              "          const dataTable =\n",
              "            await google.colab.kernel.invokeFunction('convertToInteractive',\n",
              "                                                     [key], {});\n",
              "          if (!dataTable) return;\n",
              "\n",
              "          const docLinkHtml = 'Like what you see? Visit the ' +\n",
              "            '<a target=\"_blank\" href=https://colab.research.google.com/notebooks/data_table.ipynb>data table notebook</a>'\n",
              "            + ' to learn more about interactive tables.';\n",
              "          element.innerHTML = '';\n",
              "          dataTable['output_type'] = 'display_data';\n",
              "          await google.colab.output.renderOutput(dataTable, element);\n",
              "          const docLink = document.createElement('div');\n",
              "          docLink.innerHTML = docLinkHtml;\n",
              "          element.appendChild(docLink);\n",
              "        }\n",
              "      </script>\n",
              "    </div>\n",
              "  </div>\n",
              "  "
            ]
          },
          "metadata": {},
          "execution_count": 25
        }
      ],
      "source": [
        "df1=df.T\n",
        "df['Survivors']=df['Aboard']-df['Fatalities']\n",
        "df.head()"
      ]
    },
    {
      "cell_type": "markdown",
      "metadata": {
        "id": "v63CD2SsTzqf"
      },
      "source": [
        "#1. a) Yearly how many planes crashed?"
      ]
    },
    {
      "cell_type": "code",
      "execution_count": null,
      "metadata": {
        "colab": {
          "base_uri": "https://localhost:8080/"
        },
        "id": "8j8AKIeCQvQt",
        "outputId": "194cb3db-c906-41b8-8e0b-fbab90778365"
      },
      "outputs": [
        {
          "output_type": "stream",
          "name": "stdout",
          "text": [
            "Year\n",
            "1908     1\n",
            "1912     1\n",
            "1913     3\n",
            "1915     2\n",
            "1916     5\n",
            "        ..\n",
            "2005    51\n",
            "2006    49\n",
            "2007    54\n",
            "2008    62\n",
            "2009    24\n",
            "Length: 98, dtype: int64\n"
          ]
        }
      ],
      "source": [
        "# Convert the Date column to a pandas datetime object\n",
        "df['Date'] = pd.to_datetime(df['Date'])\n",
        "\n",
        "# Create a new column for the year\n",
        "df['Year'] = df['Date'].dt.year\n",
        "\n",
        "# Group the dataframe by year and count the number of crashes in each year\n",
        "crashes_per_year = df.groupby('Year').size()\n",
        "\n",
        "print(crashes_per_year)\n"
      ]
    },
    {
      "cell_type": "markdown",
      "metadata": {
        "id": "_gRYWd38UmK0"
      },
      "source": [
        "#1. b) How many people were on board?"
      ]
    },
    {
      "cell_type": "code",
      "execution_count": null,
      "metadata": {
        "colab": {
          "base_uri": "https://localhost:8080/"
        },
        "id": "kjL8XiHkUlRp",
        "outputId": "b7dc95fa-dfd5-44e9-f23c-a6605b5c7dd6"
      },
      "outputs": [
        {
          "output_type": "stream",
          "name": "stdout",
          "text": [
            "The total number of people on board in the dataset is: 144551.0\n"
          ]
        }
      ],
      "source": [
        " #Calculate the total number of people on board by summing the values in the \"Aboard\" column\n",
        "total_on_board = df['Aboard'].sum()\n",
        "\n",
        "print(\"The total number of people on board in the dataset is:\", total_on_board)"
      ]
    },
    {
      "cell_type": "markdown",
      "metadata": {
        "id": "s7Wa6a3FU1hj"
      },
      "source": [
        "#1. c) How many survived?"
      ]
    },
    {
      "cell_type": "code",
      "execution_count": null,
      "metadata": {
        "colab": {
          "base_uri": "https://localhost:8080/"
        },
        "id": "NKiLYYvmUlaW",
        "outputId": "b1a81c55-14ca-4ff5-d272-19c3e6ead477"
      },
      "outputs": [
        {
          "output_type": "stream",
          "name": "stdout",
          "text": [
            "The total number of survivors in the dataset is: 39193.0\n"
          ]
        }
      ],
      "source": [
        "# Calculate the total number of survivors by summing the values in the \"Aboard\" column where \"Survived\" is 1\n",
        "Survived = df['Aboard'].sum() - df['Fatalities'].sum()\n",
        "total_survivors = df['Survivors'].sum()\n",
        "\n",
        "print(\"The total number of survivors in the dataset is:\", total_survivors)\n"
      ]
    },
    {
      "cell_type": "markdown",
      "metadata": {
        "id": "T2AIwYtYVF1W"
      },
      "source": [
        "#1. d)  How many died?\n"
      ]
    },
    {
      "cell_type": "code",
      "execution_count": null,
      "metadata": {
        "colab": {
          "base_uri": "https://localhost:8080/"
        },
        "id": "6aHVAlHoUldV",
        "outputId": "9e087f81-35c6-4443-8334-08a5c7a8840c"
      },
      "outputs": [
        {
          "output_type": "stream",
          "name": "stdout",
          "text": [
            "The total number of fatalities in the dataset is: 105358.0\n"
          ]
        }
      ],
      "source": [
        "\n",
        "# Calculate the total number of fatalities by summing the values in the \"Aboard\" column and subtracting the values in the \"Survived\" column\n",
        "total_fatalities = df['Aboard'].sum() - df['Survivors'].sum()\n",
        "\n",
        "print(\"The total number of fatalities in the dataset is:\", total_fatalities)"
      ]
    },
    {
      "cell_type": "markdown",
      "source": [
        "#1)Yearly how many planes crashed? how many people were on board? how many survived? how many died?"
      ],
      "metadata": {
        "id": "OWeGA4AVZpXc"
      }
    },
    {
      "cell_type": "code",
      "source": [
        "\n",
        "# Convert the date column to a datetime type\n",
        "df['Date'] = pd.to_datetime(df['Date'], format='%m/%d/%Y')\n",
        "\n",
        "# Group the data by year and calculate the number of crashes, number of people on board,\n",
        "# number of survivors, and number of fatalities for each year\n",
        "yearly_data = df.groupby(df['Date'].dt.year).agg({'Date': 'count', 'Aboard': 'sum',\n",
        "                                                   'Fatalities': 'sum', 'Ground': 'sum',\n",
        "                                                   'Survivors': 'sum'})\n",
        "\n",
        "# Rename the columns to make them more descriptive\n",
        "yearly_data = yearly_data.rename(columns={'Date': 'Crashes', 'Aboard': 'Total on Board',\n",
        "                                          'Survivors': 'Total Survivors',\n",
        "                                          'Fatalities': 'Total Fatalities', 'Ground': 'Total Ground Fatalities'})\n",
        "\n",
        "# Print the resulting DataFrame\n",
        "print(yearly_data)\n"
      ],
      "metadata": {
        "colab": {
          "base_uri": "https://localhost:8080/"
        },
        "id": "u8ofM2gEYkwj",
        "outputId": "7a64ca4b-e494-4d1f-ca5e-def05745a0ee"
      },
      "execution_count": null,
      "outputs": [
        {
          "output_type": "stream",
          "name": "stdout",
          "text": [
            "      Crashes  Total on Board  Total Fatalities  Total Ground Fatalities  \\\n",
            "Date                                                                       \n",
            "1908        1             2.0               1.0                      0.0   \n",
            "1912        1             5.0               5.0                      0.0   \n",
            "1913        3            51.0              45.0                      0.0   \n",
            "1915        2            60.0              40.0                      0.0   \n",
            "1916        5           109.0             108.0                      0.0   \n",
            "...       ...             ...               ...                      ...   \n",
            "2005       51          2164.0            1306.0                     59.0   \n",
            "2006       49          1413.0            1136.0                      4.0   \n",
            "2007       54          1364.0             931.0                     57.0   \n",
            "2008       62          1463.0             820.0                     60.0   \n",
            "2009       24           891.0             581.0                      3.0   \n",
            "\n",
            "      Total Survivors  \n",
            "Date                   \n",
            "1908              1.0  \n",
            "1912              0.0  \n",
            "1913              6.0  \n",
            "1915             20.0  \n",
            "1916              1.0  \n",
            "...               ...  \n",
            "2005            858.0  \n",
            "2006            277.0  \n",
            "2007            433.0  \n",
            "2008            643.0  \n",
            "2009            310.0  \n",
            "\n",
            "[98 rows x 5 columns]\n"
          ]
        }
      ]
    },
    {
      "cell_type": "markdown",
      "metadata": {
        "id": "JY7uR66pVTHW"
      },
      "source": [
        "#2. Highest number of crashes by operator and Type of aircrafts."
      ]
    },
    {
      "cell_type": "code",
      "execution_count": null,
      "metadata": {
        "colab": {
          "base_uri": "https://localhost:8080/"
        },
        "id": "5Gwppz7rUlgj",
        "outputId": "8e745d35-f98f-4e8c-c0b5-8e0bcf4e3977"
      },
      "outputs": [
        {
          "output_type": "stream",
          "name": "stdout",
          "text": [
            "The operator with the highest number of crashes is Aeroflot with 179 crashes.\n",
            "The aircraft type with the highest number of crashes is Douglas DC-3 with 334 crashes.\n"
          ]
        }
      ],
      "source": [
        "# Group the dataframe by operator and count the number of crashes for each operator\n",
        "crashes_by_operator = df.groupby('Operator').size()\n",
        "\n",
        "# Find the operator with the highest number of crashes\n",
        "operator_with_most_crashes = crashes_by_operator.idxmax()\n",
        "num_crashes_by_operator = crashes_by_operator.max()\n",
        "\n",
        "# Group the dataframe by type of aircraft and count the number of crashes for each type of aircraft\n",
        "crashes_by_type = df.groupby('Type').size()\n",
        "\n",
        "# Find the aircraft type with the highest number of crashes\n",
        "type_with_most_crashes = crashes_by_type.idxmax()\n",
        "num_crashes_by_type = crashes_by_type.max()\n",
        "\n",
        "print(\"The operator with the highest number of crashes is\", operator_with_most_crashes, \"with\", num_crashes_by_operator, \"crashes.\")\n",
        "print(\"The aircraft type with the highest number of crashes is\", type_with_most_crashes, \"with\", num_crashes_by_type, \"crashes.\")\n"
      ]
    },
    {
      "cell_type": "code",
      "execution_count": null,
      "metadata": {
        "colab": {
          "base_uri": "https://localhost:8080/"
        },
        "id": "2PJ5bGfb0sH5",
        "outputId": "1430d356-2f04-46cd-8dc9-70acb7faaa0a"
      },
      "outputs": [
        {
          "output_type": "stream",
          "name": "stdout",
          "text": [
            "<class 'pandas.core.frame.DataFrame'>\n",
            "RangeIndex: 5268 entries, 0 to 5267\n",
            "Data columns (total 13 columns):\n",
            " #   Column      Non-Null Count  Dtype         \n",
            "---  ------      --------------  -----         \n",
            " 0   Date        5268 non-null   datetime64[ns]\n",
            " 1   Time        5268 non-null   object        \n",
            " 2   Location    5248 non-null   object        \n",
            " 3   Operator    5250 non-null   object        \n",
            " 4   Route       3562 non-null   object        \n",
            " 5   Type        5241 non-null   object        \n",
            " 6   Aboard      5246 non-null   float64       \n",
            " 7   Fatalities  5256 non-null   float64       \n",
            " 8   Ground      5246 non-null   float64       \n",
            " 9   Summary     4878 non-null   object        \n",
            " 10  DateTime    5268 non-null   object        \n",
            " 11  Year        5268 non-null   int64         \n",
            " 12  Survivors   5246 non-null   float64       \n",
            "dtypes: datetime64[ns](1), float64(4), int64(1), object(7)\n",
            "memory usage: 535.2+ KB\n"
          ]
        }
      ],
      "source": [
        "df.info()"
      ]
    },
    {
      "cell_type": "markdown",
      "metadata": {
        "id": "durvntF5WBrP"
      },
      "source": [
        "#3. ‘Summary’ field has the details about the crashes. Find the reasons of the crash and categorize them in different clusters i.e Fire, shot down, weather (for the ‘Blanks’ in the data category can be UNKNOWN) you are open to make clusters of your choice but they should not exceed 7."
      ]
    },
    {
      "cell_type": "code",
      "execution_count": null,
      "metadata": {
        "id": "k1nDFD0U4e5P"
      },
      "outputs": [],
      "source": [
        "def clean_text(Summary):\n",
        "  Summary=Summary.lower()\n",
        "  return Summary"
      ]
    },
    {
      "cell_type": "code",
      "execution_count": null,
      "metadata": {
        "colab": {
          "base_uri": "https://localhost:8080/",
          "height": 182
        },
        "id": "ZcxtRIJz4HJo",
        "outputId": "9963d2b0-6120-4554-e454-5115ede77412"
      },
      "outputs": [
        {
          "output_type": "error",
          "ename": "NameError",
          "evalue": "ignored",
          "traceback": [
            "\u001b[0;31m---------------------------------------------------------------------------\u001b[0m",
            "\u001b[0;31mNameError\u001b[0m                                 Traceback (most recent call last)",
            "\u001b[0;32m<ipython-input-2-30865fb519e4>\u001b[0m in \u001b[0;36m<cell line: 1>\u001b[0;34m()\u001b[0m\n\u001b[0;32m----> 1\u001b[0;31m \u001b[0mdf\u001b[0m\u001b[0;34m[\u001b[0m\u001b[0;34m'Summary'\u001b[0m\u001b[0;34m]\u001b[0m\u001b[0;34m.\u001b[0m\u001b[0mfillna\u001b[0m\u001b[0;34m(\u001b[0m\u001b[0;34m''\u001b[0m\u001b[0;34m,\u001b[0m \u001b[0minplace\u001b[0m\u001b[0;34m=\u001b[0m\u001b[0;32mTrue\u001b[0m\u001b[0;34m)\u001b[0m\u001b[0;34m\u001b[0m\u001b[0;34m\u001b[0m\u001b[0m\n\u001b[0m\u001b[1;32m      2\u001b[0m \u001b[0mdf\u001b[0m\u001b[0;34m[\u001b[0m\u001b[0;34m'Summary'\u001b[0m\u001b[0;34m]\u001b[0m\u001b[0;34m.\u001b[0m\u001b[0mapply\u001b[0m\u001b[0;34m(\u001b[0m\u001b[0mclean_text\u001b[0m\u001b[0;34m)\u001b[0m\u001b[0;34m\u001b[0m\u001b[0;34m\u001b[0m\u001b[0m\n",
            "\u001b[0;31mNameError\u001b[0m: name 'df' is not defined"
          ]
        }
      ],
      "source": [
        "df['Summary'].fillna('', inplace=True)\n",
        "df['Summary'].apply(clean_text)"
      ]
    },
    {
      "cell_type": "code",
      "execution_count": null,
      "metadata": {
        "id": "5aC2at9MVbi1"
      },
      "outputs": [],
      "source": [
        "# Create a dictionary to map the reasons of the crashes to their corresponding clusters\n",
        "reasons_dict = {\n",
        "    'Fire': ['fire', 'burned', 'burnt', 'explosion', 'inflamed', 'ignited'],\n",
        "    'Shot down': ['shot down', 'missile', 'attack', 'strafed', 'combat', 'intercepted', 'bombed'],\n",
        "    'Weather': ['storm', 'thunder', 'lightning', 'hurricane', 'wind', 'turbulence', 'icing', 'fog', 'snow', 'blizzard', 'rain', 'cloud'],\n",
        "    'Mechanical failure': ['failure', 'malfunction', 'breakdown', 'collapse', 'disintegrated', 'ruptured', 'separated', 'cracked', 'structural'],\n",
        "    'Pilot error': ['pilot error', 'error', 'mistake', 'miscommunication', 'overshoot', 'overspeed', 'overload', 'overturn', 'overran', 'stall', 'spinning'],\n",
        "    'Other human error': ['human error', 'crew error', 'ground error', 'communication', 'navigation', 'traffic', 'maintenance'],\n",
        "    'Unknown': ['unknown', 'unidentified', 'undetermined', 'blank', 'lost']\n",
        "}\n",
        "\n",
        "# Categorize the reasons of the crashes into clusters\n",
        "clusters_dict = {cluster: [] for cluster in reasons_dict}\n",
        "\n",
        "for summary in df['Summary']:\n",
        "    summary = summary.lower()\n",
        "    categorized = False\n",
        "    for cluster, reasons in reasons_dict.items():\n",
        "        for reason in reasons:\n",
        "            if reason in summary:\n",
        "                clusters_dict[cluster].append(summary)\n",
        "                categorized = True\n",
        "                break\n",
        "        if categorized:\n",
        "            break\n",
        "    if not categorized:\n",
        "        clusters_dict['Unknown'].append(summary)\n",
        "\n",
        "\n",
        "# Print the number of incidents in each cluster\n",
        "for cluster, incidents in clusters_dict.items():\n",
        "    print(f\"{cluster}: {len(incidents)}\")\n",
        "\n"
      ]
    },
    {
      "cell_type": "code",
      "execution_count": null,
      "metadata": {
        "id": "P0qAE6GQQc9x"
      },
      "outputs": [],
      "source": [
        "# Create a function to categorize the reasons of the crashes into clusters\n",
        "def categorize(summary):\n",
        "    summary = summary.lower()\n",
        "    for cluster, reasons in reasons_dict.items():\n",
        "        for reason in reasons:\n",
        "            if reason in summary:\n",
        "                return cluster\n",
        "    return 'Unknown'\n",
        "\n",
        "# Add a new column to the DataFrame that contains the cluster for each row\n",
        "df['Cluster'] = df['Summary'].apply(categorize)\n",
        "\n",
        "# Show the first 10 rows of the DataFrame with the new 'Cluster' column\n",
        "\n",
        "df.head(10)"
      ]
    },
    {
      "cell_type": "code",
      "execution_count": null,
      "metadata": {
        "id": "EQSgPH6j5W3C"
      },
      "outputs": [],
      "source": [
        "\n",
        "\n",
        "# Create a dictionary to map the reasons of the crashes to their corresponding clusters\n",
        "reasons_dict = {\n",
        "    'Fire': ['fire', 'burned', 'burnt', 'explosion', 'inflamed', 'ignited'],\n",
        "    'Shot down': ['shot down', 'missile', 'attack', 'strafed', 'combat', 'intercepted', 'bombed'],\n",
        "    'Weather': ['storm', 'thunder', 'lightning', 'hurricane', 'wind', 'turbulence', 'icing', 'fog', 'snow', 'blizzard', 'rain', 'cloud'],\n",
        "    'Mechanical failure': ['failure', 'malfunction', 'breakdown', 'collapse', 'disintegrated', 'ruptured', 'separated', 'cracked', 'structural'],\n",
        "    'Pilot error': ['pilot error', 'error', 'mistake', 'miscommunication', 'overshoot', 'overspeed', 'overload', 'overturn', 'overran', 'stall', 'spinning'],\n",
        "    'Other human error': ['human error', 'crew error', 'ground error', 'communication', 'navigation', 'traffic', 'maintenance'],\n",
        "    'Unknown': ['unknown', 'unidentified', 'undetermined', 'blank', 'lost']\n",
        "}\n",
        "\n",
        "# Categorize the reasons of the crashes into clusters\n",
        "clusters_dict = {cluster: 0 for cluster in reasons_dict}\n",
        "\n",
        "for summary in df['Summary']:\n",
        "    summary = summary.lower()\n",
        "    categorized = False\n",
        "    for cluster, reasons in reasons_dict.items():\n",
        "        for reason in reasons:\n",
        "            if reason in summary:\n",
        "                clusters_dict[cluster] += 1\n",
        "                categorized = True\n",
        "                break\n",
        "        if categorized:\n",
        "            break\n",
        "    if not categorized:\n",
        "        clusters_dict['Unknown'] += 1\n",
        "\n",
        "# Create a bar chart of the number of incidents in each cluster\n",
        "fig, ax = plt.subplots(figsize=(8, 6))\n",
        "\n",
        "ax.bar(clusters_dict.keys(), clusters_dict.values())\n",
        "ax.set_title('Number of Incidents by Cluster')\n",
        "ax.set_xlabel('Cluster')\n",
        "ax.set_ylabel('Number of Incidents')\n",
        "\n",
        "plt.show()\n"
      ]
    },
    {
      "cell_type": "code",
      "execution_count": null,
      "metadata": {
        "id": "R1EUXtbcL2a4"
      },
      "outputs": [],
      "source": [
        "from sklearn import preprocessing\n",
        "\n",
        "# label_encoder object knows how to understand word labels.\n",
        "label_encoder = preprocessing.LabelEncoder()\n",
        "\n",
        "# Encode labels in column 'species'.\n",
        "df['category']= label_encoder.fit_transform(df['Cluster'])\n",
        "\n",
        "df['category'].unique()"
      ]
    },
    {
      "cell_type": "code",
      "execution_count": null,
      "metadata": {
        "id": "2DmDpop8fHTO"
      },
      "outputs": [],
      "source": [
        "df.head()"
      ]
    },
    {
      "cell_type": "markdown",
      "metadata": {
        "id": "SBV9VYVPTI-h"
      },
      "source": [
        "#Finding Best fit models\n",
        "#Dataset to predict whether a crash resulted in fatalities or not:"
      ]
    },
    {
      "cell_type": "markdown",
      "metadata": {
        "id": "HlA4zFJ4ViVa"
      },
      "source": [
        "#Logistic regression"
      ]
    },
    {
      "cell_type": "code",
      "execution_count": null,
      "metadata": {
        "id": "GKEJN4wOUp2T"
      },
      "outputs": [],
      "source": [
        "from sklearn.model_selection import train_test_split\n",
        "from sklearn.linear_model import LogisticRegression\n",
        "from sklearn.metrics import accuracy_score"
      ]
    },
    {
      "cell_type": "code",
      "execution_count": null,
      "metadata": {
        "colab": {
          "base_uri": "https://localhost:8080/"
        },
        "id": "E9YHVN3eUUfC",
        "outputId": "e765d1ac-6c00-453e-c703-ff1c01d7ce06"
      },
      "outputs": [
        {
          "output_type": "stream",
          "name": "stdout",
          "text": [
            "Accuracy: 0.9876660341555977\n"
          ]
        }
      ],
      "source": [
        "# preprocess the data\n",
        "# select relevant features\n",
        "features = ['Operator', 'Type', 'Route', 'Location', 'category', 'Year']\n",
        "X = df[features]\n",
        "# convert categorical variables to dummy variables\n",
        "X = pd.get_dummies(X, columns=['Operator', 'Type', 'Route', 'Location'], drop_first=True)\n",
        "# remove missing values\n",
        "X.dropna(inplace=True)\n",
        "# select the target variable\n",
        "y = df.loc[X.index]['Fatalities']\n",
        "# binarize the target variable\n",
        "y = (y > 0).astype(int)\n",
        "\n",
        "# split the data into training and testing sets\n",
        "X_train, X_test, y_train, y_test = train_test_split(X, y, test_size=0.2, random_state=0)\n",
        "\n",
        "# fit a logistic regression model\n",
        "model = LogisticRegression(random_state=0)\n",
        "model.fit(X_train, y_train)\n",
        "\n",
        "# make predictions on the test set\n",
        "y_pred = model.predict(X_test)\n",
        "\n",
        "# evaluate the model's accuracy\n",
        "accuracy = accuracy_score(y_test, y_pred)\n",
        "print('Accuracy:', accuracy)\n"
      ]
    },
    {
      "cell_type": "markdown",
      "metadata": {
        "id": "YUx85hbUVjus"
      },
      "source": [
        "#Random Forest"
      ]
    },
    {
      "cell_type": "code",
      "execution_count": null,
      "metadata": {
        "id": "marozzcRV5vU"
      },
      "outputs": [],
      "source": [
        "from sklearn.model_selection import train_test_split\n",
        "from sklearn.ensemble import RandomForestClassifier\n",
        "from sklearn.metrics import accuracy_score"
      ]
    },
    {
      "cell_type": "code",
      "execution_count": null,
      "metadata": {
        "colab": {
          "base_uri": "https://localhost:8080/"
        },
        "id": "KavJ1dw9UUcC",
        "outputId": "d8b58767-8a84-404a-e3ec-489ada4dc21c"
      },
      "outputs": [
        {
          "output_type": "stream",
          "name": "stdout",
          "text": [
            "Accuracy: 0.9857685009487666\n"
          ]
        }
      ],
      "source": [
        "# preprocess the data\n",
        "# select relevant features\n",
        "features = ['Operator', 'Type', 'Route', 'Location', 'category', 'Year']\n",
        "X = df[features]\n",
        "# convert categorical variables to dummy variables\n",
        "X = pd.get_dummies(X, columns=['Operator', 'Type', 'Route', 'Location'], drop_first=True)\n",
        "# remove missing values\n",
        "X.dropna(inplace=True)\n",
        "# select the target variable\n",
        "y = df.loc[X.index]['Fatalities']\n",
        "# binarize the target variable\n",
        "y = (y > 0).astype(int)\n",
        "\n",
        "# split the data into training and testing sets\n",
        "X_train, X_test, y_train, y_test = train_test_split(X, y, test_size=0.2, random_state=0)\n",
        "\n",
        "# fit a random forest classifier\n",
        "model = RandomForestClassifier(n_estimators=100, random_state=0)\n",
        "model.fit(X_train, y_train)\n",
        "\n",
        "# make predictions on the test set\n",
        "y_pred = model.predict(X_test)\n",
        "\n",
        "# evaluate the model's accuracy\n",
        "accuracy = accuracy_score(y_test, y_pred)\n",
        "print('Accuracy:', accuracy)\n"
      ]
    },
    {
      "cell_type": "markdown",
      "metadata": {
        "id": "DODMtauJWYMz"
      },
      "source": [
        "#Gradient Boosting"
      ]
    },
    {
      "cell_type": "code",
      "execution_count": null,
      "metadata": {
        "id": "R_fFHVX7Wtza"
      },
      "outputs": [],
      "source": [
        "from sklearn.model_selection import train_test_split\n",
        "from sklearn.ensemble import GradientBoostingClassifier\n",
        "from sklearn.metrics import accuracy_score"
      ]
    },
    {
      "cell_type": "code",
      "execution_count": null,
      "metadata": {
        "colab": {
          "base_uri": "https://localhost:8080/"
        },
        "id": "iuC1-Gy3WtcE",
        "outputId": "629498f2-348e-456d-e776-1cd925943157"
      },
      "outputs": [
        {
          "output_type": "stream",
          "name": "stdout",
          "text": [
            "Accuracy: 0.9810246679316889\n"
          ]
        }
      ],
      "source": [
        "features = ['Operator', 'Type', 'Route', 'Location', 'category', 'Year']\n",
        "X = df[features]\n",
        "# convert categorical variables to dummy variables\n",
        "X = pd.get_dummies(X, columns=['Operator', 'Type', 'Route', 'Location'], drop_first=True)\n",
        "# remove missing values\n",
        "X.dropna(inplace=True)\n",
        "# select the target variable\n",
        "y = df.loc[X.index]['Fatalities']\n",
        "# binarize the target variable\n",
        "y = (y > 0).astype(int)\n",
        "\n",
        "# split the data into training and testing sets\n",
        "X_train, X_test, y_train, y_test = train_test_split(X, y, test_size=0.2, random_state=0)\n",
        "\n",
        "# fit a gradient boosting classifier\n",
        "model = GradientBoostingClassifier(n_estimators=100, random_state=0)\n",
        "model.fit(X_train, y_train)\n",
        "\n",
        "# make predictions on the test set\n",
        "y_pred = model.predict(X_test)\n",
        "\n",
        "# evaluate the model's accuracy\n",
        "accuracy = accuracy_score(y_test, y_pred)\n",
        "print('Accuracy:', accuracy)"
      ]
    },
    {
      "cell_type": "markdown",
      "metadata": {
        "id": "rieNRo4OX1yC"
      },
      "source": [
        "#Support Vector Machines (SVMs)"
      ]
    },
    {
      "cell_type": "code",
      "execution_count": null,
      "metadata": {
        "id": "cjMj_LJJX3Z7"
      },
      "outputs": [],
      "source": [
        "from sklearn.model_selection import train_test_split\n",
        "from sklearn.svm import SVC\n",
        "from sklearn.metrics import accuracy_score"
      ]
    },
    {
      "cell_type": "code",
      "execution_count": null,
      "metadata": {
        "colab": {
          "base_uri": "https://localhost:8080/"
        },
        "id": "2Bt-53JyX3eX",
        "outputId": "1c0741e7-65f9-4fbd-94e5-21e731f24ad9"
      },
      "outputs": [
        {
          "output_type": "stream",
          "name": "stdout",
          "text": [
            "Accuracy: 0.9838709677419355\n"
          ]
        }
      ],
      "source": [
        "# select relevant features\n",
        "features = ['Operator', 'Type', 'Route', 'Location', 'category', 'Year']\n",
        "X = df[features]\n",
        "# convert categorical variables to dummy variables\n",
        "X = pd.get_dummies(X, columns=['Operator', 'Type', 'Route', 'Location'], drop_first=True)\n",
        "# remove missing values\n",
        "X.dropna(inplace=True)\n",
        "# select the target variable\n",
        "y = df.loc[X.index]['Fatalities']\n",
        "# binarize the target variable\n",
        "y = (y > 0).astype(int)\n",
        "\n",
        "# split the data into training and testing sets\n",
        "X_train, X_test, y_train, y_test = train_test_split(X, y, test_size=0.2, random_state=0)\n",
        "\n",
        "# fit an SVM classifier\n",
        "model = SVC(kernel='linear', C=1.0, random_state=0)\n",
        "model.fit(X_train, y_train)\n",
        "\n",
        "# make predictions on the test set\n",
        "y_pred = model.predict(X_test)\n",
        "\n",
        "# evaluate the model's accuracy\n",
        "accuracy = accuracy_score(y_test, y_pred)\n",
        "print('Accuracy:', accuracy)"
      ]
    },
    {
      "cell_type": "markdown",
      "metadata": {
        "id": "yUINhJ36YSAz"
      },
      "source": [
        "#Neural Networks"
      ]
    },
    {
      "cell_type": "code",
      "execution_count": null,
      "metadata": {
        "id": "79fJ8-tpYTpL"
      },
      "outputs": [],
      "source": [
        "from sklearn.model_selection import train_test_split\n",
        "from sklearn.preprocessing import StandardScaler\n",
        "from sklearn.neural_network import MLPClassifier\n",
        "from sklearn.metrics import accuracy_score"
      ]
    },
    {
      "cell_type": "code",
      "execution_count": null,
      "metadata": {
        "colab": {
          "base_uri": "https://localhost:8080/"
        },
        "id": "vhxbkpfCYTg7",
        "outputId": "377de03d-c7a5-4572-c127-d980e09281e7"
      },
      "outputs": [
        {
          "output_type": "stream",
          "name": "stdout",
          "text": [
            "Accuracy: 0.9876660341555977\n"
          ]
        }
      ],
      "source": [
        "features = ['Operator', 'Type', 'Route', 'Location', 'category', 'Year']\n",
        "X = df[features]\n",
        "# convert categorical variables to dummy variables\n",
        "X = pd.get_dummies(X, columns=['Operator', 'Type', 'Route', 'Location'], drop_first=True)\n",
        "# remove missing values\n",
        "X.dropna(inplace=True)\n",
        "# select the target variable\n",
        "y = df.loc[X.index]['Fatalities']\n",
        "# binarize the target variable\n",
        "y = (y > 0).astype(int)\n",
        "\n",
        "# split the data into training and testing sets\n",
        "X_train, X_test, y_train, y_test = train_test_split(X, y, test_size=0.2, random_state=0)\n",
        "\n",
        "# standardize the input features\n",
        "scaler = StandardScaler()\n",
        "X_train = scaler.fit_transform(X_train)\n",
        "X_test = scaler.transform(X_test)\n",
        "\n",
        "# create a neural network classifier\n",
        "model = MLPClassifier(hidden_layer_sizes=(10, 5), activation='relu', solver='adam', max_iter=1000, random_state=0)\n",
        "\n",
        "# fit the model to the training data\n",
        "model.fit(X_train, y_train)\n",
        "\n",
        "# make predictions on the test set\n",
        "y_pred = model.predict(X_test)\n",
        "\n",
        "# evaluate the model's accuracy\n",
        "accuracy = accuracy_score(y_test, y_pred)\n",
        "print('Accuracy:', accuracy)"
      ]
    },
    {
      "cell_type": "markdown",
      "metadata": {
        "id": "jQEdFdUmWTMg"
      },
      "source": [
        "#4. Find the number of crashed aircrafts and number of deaths against each category from above step."
      ]
    },
    {
      "cell_type": "code",
      "execution_count": null,
      "metadata": {
        "colab": {
          "base_uri": "https://localhost:8080/"
        },
        "id": "hjIMMKR7VbxF",
        "outputId": "297e9d0c-2524-47d2-98fc-ae8549c7cb34"
      },
      "outputs": [
        {
          "name": "stdout",
          "output_type": "stream",
          "text": [
            "           Aboard  Fatalities\n",
            "category                     \n",
            "0         23640.0     16577.0\n",
            "1         16806.0     12417.0\n",
            "2          1109.0       903.0\n",
            "3         12575.0      8881.0\n",
            "4          4468.0      3918.0\n",
            "5         49837.0     36106.0\n",
            "6         36116.0     26677.0\n"
          ]
        }
      ],
      "source": [
        "# Group the dataframe by category and count the number of crashes and deaths for each category\n",
        "crashes_and_deaths_by_category = df.groupby('category')[['Aboard', 'Fatalities']].sum()\n",
        "print(crashes_and_deaths_by_category)"
      ]
    },
    {
      "cell_type": "code",
      "execution_count": null,
      "metadata": {
        "colab": {
          "base_uri": "https://localhost:8080/"
        },
        "id": "sId9YgEVRaJa",
        "outputId": "3500093b-d5a4-4940-f341-45b055c31718"
      },
      "outputs": [
        {
          "name": "stdout",
          "output_type": "stream",
          "text": [
            "                    Incidents   Deaths  Total Aboard  Total Ground\n",
            "Cluster                                                           \n",
            "Fire                      567  16577.0       23640.0         316.0\n",
            "Mechanical failure        501  12417.0       16806.0        5921.0\n",
            "Other human error          37    903.0        1109.0          19.0\n",
            "Pilot error               343   8881.0       12575.0         475.0\n",
            "Shot down                 129   3918.0        4468.0           3.0\n",
            "Unknown                  2425  36106.0       49837.0        1053.0\n",
            "Weather                  1266  26677.0       36116.0         653.0\n"
          ]
        }
      ],
      "source": [
        "# Group the DataFrame by the 'Cluster' column and calculate the number of incidents, number of deaths, and number of survivors for each cluster\n",
        "grouped = df.groupby('Cluster').agg({'Date': 'count', 'Fatalities': 'sum', 'Aboard': 'sum', 'Ground': 'sum'})\n",
        "\n",
        "# Rename the columns to more meaningful names\n",
        "grouped = grouped.rename(columns={'Date': 'Incidents', 'Fatalities': 'Deaths', 'Aboard': 'Total Aboard', 'Ground': 'Total Ground'})\n",
        "\n",
        "# Show the grouped DataFrame\n",
        "print(grouped)"
      ]
    },
    {
      "cell_type": "code",
      "execution_count": null,
      "metadata": {
        "id": "K4S_qebsSGMJ"
      },
      "outputs": [],
      "source": []
    },
    {
      "cell_type": "markdown",
      "metadata": {
        "id": "ebeX0J8vzQT1"
      },
      "source": [
        "#The number of airplane crashes has been decreasing over time. The number of crashes per year peaked in the 1970s and has been declining ever since"
      ]
    },
    {
      "cell_type": "code",
      "execution_count": null,
      "metadata": {
        "colab": {
          "base_uri": "https://localhost:8080/",
          "height": 480
        },
        "id": "bWWR4fL8zPll",
        "outputId": "6eeb46ef-349e-49bc-fe67-9c6118ab3c0d"
      },
      "outputs": [
        {
          "output_type": "display_data",
          "data": {
            "text/plain": [
              "<Figure size 640x480 with 1 Axes>"
            ],
            "image/png": "[encoded data removed]"
          },
          "metadata": {}
        }
      ],
      "source": [
        "# Convert the date column to a datetime object and extract the year\n",
        "df['Date'] = pd.to_datetime(df['Date'])\n",
        "df['Year'] = df['Date'].dt.year\n",
        "\n",
        "# Count the number of crashes per year and plot the results\n",
        "crashes_per_year = df.groupby('Year')['Date'].count()\n",
        "plt.plot(crashes_per_year)\n",
        "\n",
        "# Add labels and title to the plot\n",
        "plt.xlabel('Year')\n",
        "plt.ylabel('Number of Crashes')\n",
        "plt.title('Number of Airplane Crashes over Time')\n",
        "\n",
        "# Show the plot\n",
        "plt.show()"
      ]
    },
    {
      "cell_type": "markdown",
      "metadata": {
        "id": "Vr0XytPj5xE6"
      },
      "source": [
        "#The number of fatalities per crash has decreased over time, indicating that airplanes are becoming safer and more advanced in terms of technology and safety features."
      ]
    },
    {
      "cell_type": "code",
      "execution_count": null,
      "metadata": {
        "colab": {
          "base_uri": "https://localhost:8080/",
          "height": 480
        },
        "id": "Sven0E0y0RnV",
        "outputId": "000ce5f4-4fd5-4810-d08d-6a6825d00468"
      },
      "outputs": [
        {
          "data": {
            "image/png": "[encoded data removed]",
            "text/plain": [
              "<Figure size 640x480 with 1 Axes>"
            ]
          },
          "metadata": {},
          "output_type": "display_data"
        }
      ],
      "source": [
        "# Convert the date column to a datetime object and extract the year\n",
        "df['Date'] = pd.to_datetime(df['Date'])\n",
        "df['Year'] = df['Date'].dt.year\n",
        "\n",
        "# Calculate the number of fatalities per crash for each year\n",
        "fatalities_per_crash = df.groupby('Year').apply(lambda x: x['Fatalities'].sum() / x['Aboard'].sum())\n",
        "\n",
        "# Plot the results\n",
        "plt.plot(fatalities_per_crash)\n",
        "\n",
        "# Add labels and title to the plot\n",
        "plt.xlabel('Year')\n",
        "plt.ylabel('Number of Fatalities per Crash')\n",
        "plt.title('Number of Fatalities per Crash over Time')\n",
        "\n",
        "# Show the plot\n",
        "plt.show()\n"
      ]
    }
  ],
  "metadata": {
    "colab": {
      "collapsed_sections": [
        "nPacU7oUO90V",
        "YwJqFj-V_2Ne",
        "yYZqvPWLxbth",
        "v63CD2SsTzqf",
        "_gRYWd38UmK0",
        "s7Wa6a3FU1hj",
        "T2AIwYtYVF1W",
        "JY7uR66pVTHW",
        "durvntF5WBrP",
        "HlA4zFJ4ViVa",
        "YUx85hbUVjus",
        "DODMtauJWYMz",
        "rieNRo4OX1yC",
        "yUINhJ36YSAz",
        "jQEdFdUmWTMg",
        "ebeX0J8vzQT1",
        "Vr0XytPj5xE6"
      ],
      "provenance": [],
      "include_colab_link": true
    },
    "kernelspec": {
      "display_name": "Python 3",
      "name": "python3"
    },
    "language_info": {
      "name": "python"
    }
  },
  "nbformat": 4,
  "nbformat_minor": 0
}